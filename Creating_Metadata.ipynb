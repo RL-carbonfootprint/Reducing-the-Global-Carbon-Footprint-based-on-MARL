{
 "cells": [
  {
   "cell_type": "markdown",
   "metadata": {},
   "source": [
    "# Creating Database\n",
    "<br>\n",
    "\n",
    "<br>\n",
    "<br>"
   ]
  },
  {
   "cell_type": "code",
   "execution_count": 64,
   "metadata": {},
   "outputs": [],
   "source": [
    "import numpy as np\n",
    "import pandas as pd\n",
    "from sklearn.cluster import KMeans\n",
    "import matplotlib.pyplot as plt\n",
    "plt.style.use(\"seaborn\")"
   ]
  },
  {
   "cell_type": "code",
   "execution_count": 2,
   "metadata": {},
   "outputs": [
    {
     "data": {
      "text/html": [
       "<div>\n",
       "<style scoped>\n",
       "    .dataframe tbody tr th:only-of-type {\n",
       "        vertical-align: middle;\n",
       "    }\n",
       "\n",
       "    .dataframe tbody tr th {\n",
       "        vertical-align: top;\n",
       "    }\n",
       "\n",
       "    .dataframe thead th {\n",
       "        text-align: right;\n",
       "    }\n",
       "</style>\n",
       "<table border=\"1\" class=\"dataframe\">\n",
       "  <thead>\n",
       "    <tr style=\"text-align: right;\">\n",
       "      <th></th>\n",
       "      <th>Country Name</th>\n",
       "      <th>Country Code</th>\n",
       "      <th>1990</th>\n",
       "      <th>1995</th>\n",
       "      <th>2000</th>\n",
       "      <th>2005</th>\n",
       "      <th>2010</th>\n",
       "      <th>2011</th>\n",
       "      <th>2012</th>\n",
       "      <th>2013</th>\n",
       "      <th>2014</th>\n",
       "      <th>2015</th>\n",
       "      <th>2016</th>\n",
       "      <th>2017</th>\n",
       "    </tr>\n",
       "  </thead>\n",
       "  <tbody>\n",
       "    <tr>\n",
       "      <th>0</th>\n",
       "      <td>Afghanistan</td>\n",
       "      <td>AFG</td>\n",
       "      <td>65.486792</td>\n",
       "      <td>65.179513</td>\n",
       "      <td>64.922462</td>\n",
       "      <td>64.522683</td>\n",
       "      <td>65.245592</td>\n",
       "      <td>66.835727</td>\n",
       "      <td>66.023174</td>\n",
       "      <td>61.366745</td>\n",
       "      <td>59.010330</td>\n",
       "      <td>61.252656</td>\n",
       "      <td>56.287047</td>\n",
       "      <td>56.910808</td>\n",
       "    </tr>\n",
       "    <tr>\n",
       "      <th>1</th>\n",
       "      <td>Angola</td>\n",
       "      <td>AGO</td>\n",
       "      <td>36.448116</td>\n",
       "      <td>35.602908</td>\n",
       "      <td>36.182968</td>\n",
       "      <td>34.962912</td>\n",
       "      <td>33.787247</td>\n",
       "      <td>33.104195</td>\n",
       "      <td>33.415495</td>\n",
       "      <td>34.663923</td>\n",
       "      <td>32.974025</td>\n",
       "      <td>32.729873</td>\n",
       "      <td>31.785389</td>\n",
       "      <td>32.388505</td>\n",
       "    </tr>\n",
       "    <tr>\n",
       "      <th>2</th>\n",
       "      <td>Albania</td>\n",
       "      <td>ALB</td>\n",
       "      <td>22.718663</td>\n",
       "      <td>22.029218</td>\n",
       "      <td>21.998248</td>\n",
       "      <td>21.575258</td>\n",
       "      <td>21.277828</td>\n",
       "      <td>22.772537</td>\n",
       "      <td>20.578259</td>\n",
       "      <td>19.938517</td>\n",
       "      <td>18.883955</td>\n",
       "      <td>19.512540</td>\n",
       "      <td>18.189934</td>\n",
       "      <td>18.200603</td>\n",
       "    </tr>\n",
       "    <tr>\n",
       "      <th>3</th>\n",
       "      <td>Andorra</td>\n",
       "      <td>AND</td>\n",
       "      <td>14.118742</td>\n",
       "      <td>13.936867</td>\n",
       "      <td>12.594015</td>\n",
       "      <td>12.961378</td>\n",
       "      <td>12.807197</td>\n",
       "      <td>13.273506</td>\n",
       "      <td>12.407053</td>\n",
       "      <td>11.813673</td>\n",
       "      <td>10.830418</td>\n",
       "      <td>11.462178</td>\n",
       "      <td>10.255834</td>\n",
       "      <td>10.307621</td>\n",
       "    </tr>\n",
       "    <tr>\n",
       "      <th>4</th>\n",
       "      <td>Arab World</td>\n",
       "      <td>ARB</td>\n",
       "      <td>53.300266</td>\n",
       "      <td>52.543409</td>\n",
       "      <td>53.063076</td>\n",
       "      <td>52.395251</td>\n",
       "      <td>53.787001</td>\n",
       "      <td>52.652279</td>\n",
       "      <td>53.297270</td>\n",
       "      <td>54.053822</td>\n",
       "      <td>52.583603</td>\n",
       "      <td>60.406813</td>\n",
       "      <td>58.764905</td>\n",
       "      <td>58.689259</td>\n",
       "    </tr>\n",
       "  </tbody>\n",
       "</table>\n",
       "</div>"
      ],
      "text/plain": [
       "  Country Name Country Code       1990       1995       2000       2005  \\\n",
       "0  Afghanistan          AFG  65.486792  65.179513  64.922462  64.522683   \n",
       "1       Angola          AGO  36.448116  35.602908  36.182968  34.962912   \n",
       "2      Albania          ALB  22.718663  22.029218  21.998248  21.575258   \n",
       "3      Andorra          AND  14.118742  13.936867  12.594015  12.961378   \n",
       "4   Arab World          ARB  53.300266  52.543409  53.063076  52.395251   \n",
       "\n",
       "        2010       2011       2012       2013       2014       2015  \\\n",
       "0  65.245592  66.835727  66.023174  61.366745  59.010330  61.252656   \n",
       "1  33.787247  33.104195  33.415495  34.663923  32.974025  32.729873   \n",
       "2  21.277828  22.772537  20.578259  19.938517  18.883955  19.512540   \n",
       "3  12.807197  13.273506  12.407053  11.813673  10.830418  11.462178   \n",
       "4  53.787001  52.652279  53.297270  54.053822  52.583603  60.406813   \n",
       "\n",
       "        2016       2017  \n",
       "0  56.287047  56.910808  \n",
       "1  31.785389  32.388505  \n",
       "2  18.189934  18.200603  \n",
       "3  10.255834  10.307621  \n",
       "4  58.764905  58.689259  "
      ]
     },
     "execution_count": 2,
     "metadata": {},
     "output_type": "execute_result"
    }
   ],
   "source": [
    "# we load air polution data, as measure for global warming. imapact of CO2 emission.\n",
    "df_air = pd.read_csv('./data/air_polution.csv')\n",
    "df_air.head()"
   ]
  },
  {
   "cell_type": "code",
   "execution_count": 3,
   "metadata": {},
   "outputs": [],
   "source": [
    "cols = ['Country Code']\n",
    "for i in range(1985, 2015):\n",
    "    cols.append(str(i))"
   ]
  },
  {
   "cell_type": "code",
   "execution_count": 4,
   "metadata": {},
   "outputs": [
    {
     "data": {
      "text/html": [
       "<div>\n",
       "<style scoped>\n",
       "    .dataframe tbody tr th:only-of-type {\n",
       "        vertical-align: middle;\n",
       "    }\n",
       "\n",
       "    .dataframe tbody tr th {\n",
       "        vertical-align: top;\n",
       "    }\n",
       "\n",
       "    .dataframe thead th {\n",
       "        text-align: right;\n",
       "    }\n",
       "</style>\n",
       "<table border=\"1\" class=\"dataframe\">\n",
       "  <thead>\n",
       "    <tr style=\"text-align: right;\">\n",
       "      <th></th>\n",
       "      <th>Country Code</th>\n",
       "      <th>1985</th>\n",
       "      <th>1986</th>\n",
       "      <th>1987</th>\n",
       "      <th>1988</th>\n",
       "      <th>1989</th>\n",
       "      <th>1990</th>\n",
       "      <th>1991</th>\n",
       "      <th>1992</th>\n",
       "      <th>1993</th>\n",
       "      <th>...</th>\n",
       "      <th>2005</th>\n",
       "      <th>2006</th>\n",
       "      <th>2007</th>\n",
       "      <th>2008</th>\n",
       "      <th>2009</th>\n",
       "      <th>2010</th>\n",
       "      <th>2011</th>\n",
       "      <th>2012</th>\n",
       "      <th>2013</th>\n",
       "      <th>2014</th>\n",
       "    </tr>\n",
       "  </thead>\n",
       "  <tbody>\n",
       "    <tr>\n",
       "      <th>1</th>\n",
       "      <td>AFG</td>\n",
       "      <td>0.293957</td>\n",
       "      <td>0.267772</td>\n",
       "      <td>0.269230</td>\n",
       "      <td>0.246823</td>\n",
       "      <td>0.233882</td>\n",
       "      <td>0.210643</td>\n",
       "      <td>0.183364</td>\n",
       "      <td>0.096197</td>\n",
       "      <td>0.085087</td>\n",
       "      <td>...</td>\n",
       "      <td>0.051744</td>\n",
       "      <td>0.062428</td>\n",
       "      <td>0.083893</td>\n",
       "      <td>0.151721</td>\n",
       "      <td>0.238399</td>\n",
       "      <td>0.289988</td>\n",
       "      <td>0.406424</td>\n",
       "      <td>0.345149</td>\n",
       "      <td>0.310341</td>\n",
       "      <td>0.293946</td>\n",
       "    </tr>\n",
       "    <tr>\n",
       "      <th>2</th>\n",
       "      <td>AGO</td>\n",
       "      <td>0.471903</td>\n",
       "      <td>0.451619</td>\n",
       "      <td>0.544085</td>\n",
       "      <td>0.463508</td>\n",
       "      <td>0.437295</td>\n",
       "      <td>0.431744</td>\n",
       "      <td>0.415531</td>\n",
       "      <td>0.410523</td>\n",
       "      <td>0.441721</td>\n",
       "      <td>...</td>\n",
       "      <td>0.985736</td>\n",
       "      <td>1.105019</td>\n",
       "      <td>1.203134</td>\n",
       "      <td>1.185000</td>\n",
       "      <td>1.234425</td>\n",
       "      <td>1.244092</td>\n",
       "      <td>1.252681</td>\n",
       "      <td>1.330219</td>\n",
       "      <td>1.253776</td>\n",
       "      <td>1.290307</td>\n",
       "    </tr>\n",
       "    <tr>\n",
       "      <th>3</th>\n",
       "      <td>ALB</td>\n",
       "      <td>2.658015</td>\n",
       "      <td>2.665356</td>\n",
       "      <td>2.414061</td>\n",
       "      <td>2.331599</td>\n",
       "      <td>2.783243</td>\n",
       "      <td>1.678107</td>\n",
       "      <td>1.312213</td>\n",
       "      <td>0.774725</td>\n",
       "      <td>0.723790</td>\n",
       "      <td>...</td>\n",
       "      <td>1.412498</td>\n",
       "      <td>1.302576</td>\n",
       "      <td>1.322335</td>\n",
       "      <td>1.484311</td>\n",
       "      <td>1.495600</td>\n",
       "      <td>1.578574</td>\n",
       "      <td>1.803715</td>\n",
       "      <td>1.692908</td>\n",
       "      <td>1.749211</td>\n",
       "      <td>1.978763</td>\n",
       "    </tr>\n",
       "    <tr>\n",
       "      <th>5</th>\n",
       "      <td>ARB</td>\n",
       "      <td>3.061850</td>\n",
       "      <td>3.284500</td>\n",
       "      <td>3.197806</td>\n",
       "      <td>3.295043</td>\n",
       "      <td>3.256674</td>\n",
       "      <td>3.016959</td>\n",
       "      <td>3.236645</td>\n",
       "      <td>3.415485</td>\n",
       "      <td>3.669446</td>\n",
       "      <td>...</td>\n",
       "      <td>4.185677</td>\n",
       "      <td>4.285719</td>\n",
       "      <td>4.117148</td>\n",
       "      <td>4.408948</td>\n",
       "      <td>4.562015</td>\n",
       "      <td>4.636813</td>\n",
       "      <td>4.559462</td>\n",
       "      <td>4.837780</td>\n",
       "      <td>4.674925</td>\n",
       "      <td>4.886988</td>\n",
       "    </tr>\n",
       "    <tr>\n",
       "      <th>6</th>\n",
       "      <td>ARE</td>\n",
       "      <td>36.544811</td>\n",
       "      <td>32.657135</td>\n",
       "      <td>31.100021</td>\n",
       "      <td>29.726963</td>\n",
       "      <td>31.574754</td>\n",
       "      <td>28.444624</td>\n",
       "      <td>29.430225</td>\n",
       "      <td>28.319389</td>\n",
       "      <td>30.361763</td>\n",
       "      <td>...</td>\n",
       "      <td>25.314486</td>\n",
       "      <td>23.371860</td>\n",
       "      <td>21.985933</td>\n",
       "      <td>22.195490</td>\n",
       "      <td>21.214060</td>\n",
       "      <td>18.808520</td>\n",
       "      <td>18.491617</td>\n",
       "      <td>19.294920</td>\n",
       "      <td>18.559236</td>\n",
       "      <td>22.939606</td>\n",
       "    </tr>\n",
       "  </tbody>\n",
       "</table>\n",
       "<p>5 rows × 31 columns</p>\n",
       "</div>"
      ],
      "text/plain": [
       "  Country Code       1985       1986       1987       1988       1989  \\\n",
       "1          AFG   0.293957   0.267772   0.269230   0.246823   0.233882   \n",
       "2          AGO   0.471903   0.451619   0.544085   0.463508   0.437295   \n",
       "3          ALB   2.658015   2.665356   2.414061   2.331599   2.783243   \n",
       "5          ARB   3.061850   3.284500   3.197806   3.295043   3.256674   \n",
       "6          ARE  36.544811  32.657135  31.100021  29.726963  31.574754   \n",
       "\n",
       "        1990       1991       1992       1993  ...       2005       2006  \\\n",
       "1   0.210643   0.183364   0.096197   0.085087  ...   0.051744   0.062428   \n",
       "2   0.431744   0.415531   0.410523   0.441721  ...   0.985736   1.105019   \n",
       "3   1.678107   1.312213   0.774725   0.723790  ...   1.412498   1.302576   \n",
       "5   3.016959   3.236645   3.415485   3.669446  ...   4.185677   4.285719   \n",
       "6  28.444624  29.430225  28.319389  30.361763  ...  25.314486  23.371860   \n",
       "\n",
       "        2007       2008       2009       2010       2011       2012  \\\n",
       "1   0.083893   0.151721   0.238399   0.289988   0.406424   0.345149   \n",
       "2   1.203134   1.185000   1.234425   1.244092   1.252681   1.330219   \n",
       "3   1.322335   1.484311   1.495600   1.578574   1.803715   1.692908   \n",
       "5   4.117148   4.408948   4.562015   4.636813   4.559462   4.837780   \n",
       "6  21.985933  22.195490  21.214060  18.808520  18.491617  19.294920   \n",
       "\n",
       "        2013       2014  \n",
       "1   0.310341   0.293946  \n",
       "2   1.253776   1.290307  \n",
       "3   1.749211   1.978763  \n",
       "5   4.674925   4.886988  \n",
       "6  18.559236  22.939606  \n",
       "\n",
       "[5 rows x 31 columns]"
      ]
     },
     "execution_count": 4,
     "metadata": {},
     "output_type": "execute_result"
    }
   ],
   "source": [
    "# CO2_emission is loaded to do a inner join of countries in each dataset\n",
    "df_co2 = pd.read_csv('./data/CO2_emission.csv')\n",
    "df_co2 = df_co2[cols]\n",
    "df_co2 = df_co2.dropna()\n",
    "df_co2.head()"
   ]
  },
  {
   "cell_type": "code",
   "execution_count": 5,
   "metadata": {},
   "outputs": [
    {
     "data": {
      "text/html": [
       "<div>\n",
       "<style scoped>\n",
       "    .dataframe tbody tr th:only-of-type {\n",
       "        vertical-align: middle;\n",
       "    }\n",
       "\n",
       "    .dataframe tbody tr th {\n",
       "        vertical-align: top;\n",
       "    }\n",
       "\n",
       "    .dataframe thead th {\n",
       "        text-align: right;\n",
       "    }\n",
       "</style>\n",
       "<table border=\"1\" class=\"dataframe\">\n",
       "  <thead>\n",
       "    <tr style=\"text-align: right;\">\n",
       "      <th></th>\n",
       "      <th>Country Code</th>\n",
       "      <th>1985</th>\n",
       "      <th>1986</th>\n",
       "      <th>1987</th>\n",
       "      <th>1988</th>\n",
       "      <th>1989</th>\n",
       "      <th>1990</th>\n",
       "      <th>1991</th>\n",
       "      <th>1992</th>\n",
       "      <th>1993</th>\n",
       "      <th>...</th>\n",
       "      <th>2005</th>\n",
       "      <th>2006</th>\n",
       "      <th>2007</th>\n",
       "      <th>2008</th>\n",
       "      <th>2009</th>\n",
       "      <th>2010</th>\n",
       "      <th>2011</th>\n",
       "      <th>2012</th>\n",
       "      <th>2013</th>\n",
       "      <th>2014</th>\n",
       "    </tr>\n",
       "  </thead>\n",
       "  <tbody>\n",
       "    <tr>\n",
       "      <th>0</th>\n",
       "      <td>ABW</td>\n",
       "      <td>63026.0</td>\n",
       "      <td>62644.0</td>\n",
       "      <td>61833.0</td>\n",
       "      <td>61079.0</td>\n",
       "      <td>61032.0</td>\n",
       "      <td>62149.0</td>\n",
       "      <td>64622.0</td>\n",
       "      <td>68235.0</td>\n",
       "      <td>72504.0</td>\n",
       "      <td>...</td>\n",
       "      <td>100031.0</td>\n",
       "      <td>100834.0</td>\n",
       "      <td>101222.0</td>\n",
       "      <td>101358.0</td>\n",
       "      <td>101455.0</td>\n",
       "      <td>101669.0</td>\n",
       "      <td>102046.0</td>\n",
       "      <td>102560.0</td>\n",
       "      <td>103159.0</td>\n",
       "      <td>103774.0</td>\n",
       "    </tr>\n",
       "    <tr>\n",
       "      <th>1</th>\n",
       "      <td>AFG</td>\n",
       "      <td>11938208.0</td>\n",
       "      <td>11736179.0</td>\n",
       "      <td>11604534.0</td>\n",
       "      <td>11618005.0</td>\n",
       "      <td>11868877.0</td>\n",
       "      <td>12412308.0</td>\n",
       "      <td>13299017.0</td>\n",
       "      <td>14485546.0</td>\n",
       "      <td>15816603.0</td>\n",
       "      <td>...</td>\n",
       "      <td>25654277.0</td>\n",
       "      <td>26433049.0</td>\n",
       "      <td>27100536.0</td>\n",
       "      <td>27722276.0</td>\n",
       "      <td>28394813.0</td>\n",
       "      <td>29185507.0</td>\n",
       "      <td>30117413.0</td>\n",
       "      <td>31161376.0</td>\n",
       "      <td>32269589.0</td>\n",
       "      <td>33370794.0</td>\n",
       "    </tr>\n",
       "    <tr>\n",
       "      <th>2</th>\n",
       "      <td>AGO</td>\n",
       "      <td>9961997.0</td>\n",
       "      <td>10320111.0</td>\n",
       "      <td>10689250.0</td>\n",
       "      <td>11068050.0</td>\n",
       "      <td>11454777.0</td>\n",
       "      <td>11848386.0</td>\n",
       "      <td>12248901.0</td>\n",
       "      <td>12657366.0</td>\n",
       "      <td>13075049.0</td>\n",
       "      <td>...</td>\n",
       "      <td>19433602.0</td>\n",
       "      <td>20149901.0</td>\n",
       "      <td>20905363.0</td>\n",
       "      <td>21695634.0</td>\n",
       "      <td>22514281.0</td>\n",
       "      <td>23356246.0</td>\n",
       "      <td>24220661.0</td>\n",
       "      <td>25107931.0</td>\n",
       "      <td>26015780.0</td>\n",
       "      <td>26941779.0</td>\n",
       "    </tr>\n",
       "    <tr>\n",
       "      <th>3</th>\n",
       "      <td>ALB</td>\n",
       "      <td>2964762.0</td>\n",
       "      <td>3022635.0</td>\n",
       "      <td>3083605.0</td>\n",
       "      <td>3142336.0</td>\n",
       "      <td>3227943.0</td>\n",
       "      <td>3286542.0</td>\n",
       "      <td>3266790.0</td>\n",
       "      <td>3247039.0</td>\n",
       "      <td>3227287.0</td>\n",
       "      <td>...</td>\n",
       "      <td>3011487.0</td>\n",
       "      <td>2992547.0</td>\n",
       "      <td>2970017.0</td>\n",
       "      <td>2947314.0</td>\n",
       "      <td>2927519.0</td>\n",
       "      <td>2913021.0</td>\n",
       "      <td>2905195.0</td>\n",
       "      <td>2900401.0</td>\n",
       "      <td>2895092.0</td>\n",
       "      <td>2889104.0</td>\n",
       "    </tr>\n",
       "    <tr>\n",
       "      <th>4</th>\n",
       "      <td>AND</td>\n",
       "      <td>44600.0</td>\n",
       "      <td>46517.0</td>\n",
       "      <td>48455.0</td>\n",
       "      <td>50434.0</td>\n",
       "      <td>52448.0</td>\n",
       "      <td>54509.0</td>\n",
       "      <td>56671.0</td>\n",
       "      <td>58888.0</td>\n",
       "      <td>60971.0</td>\n",
       "      <td>...</td>\n",
       "      <td>78867.0</td>\n",
       "      <td>80993.0</td>\n",
       "      <td>82684.0</td>\n",
       "      <td>83862.0</td>\n",
       "      <td>84463.0</td>\n",
       "      <td>84449.0</td>\n",
       "      <td>83747.0</td>\n",
       "      <td>82427.0</td>\n",
       "      <td>80774.0</td>\n",
       "      <td>79213.0</td>\n",
       "    </tr>\n",
       "  </tbody>\n",
       "</table>\n",
       "<p>5 rows × 31 columns</p>\n",
       "</div>"
      ],
      "text/plain": [
       "  Country Code        1985        1986        1987        1988        1989  \\\n",
       "0          ABW     63026.0     62644.0     61833.0     61079.0     61032.0   \n",
       "1          AFG  11938208.0  11736179.0  11604534.0  11618005.0  11868877.0   \n",
       "2          AGO   9961997.0  10320111.0  10689250.0  11068050.0  11454777.0   \n",
       "3          ALB   2964762.0   3022635.0   3083605.0   3142336.0   3227943.0   \n",
       "4          AND     44600.0     46517.0     48455.0     50434.0     52448.0   \n",
       "\n",
       "         1990        1991        1992        1993  ...        2005  \\\n",
       "0     62149.0     64622.0     68235.0     72504.0  ...    100031.0   \n",
       "1  12412308.0  13299017.0  14485546.0  15816603.0  ...  25654277.0   \n",
       "2  11848386.0  12248901.0  12657366.0  13075049.0  ...  19433602.0   \n",
       "3   3286542.0   3266790.0   3247039.0   3227287.0  ...   3011487.0   \n",
       "4     54509.0     56671.0     58888.0     60971.0  ...     78867.0   \n",
       "\n",
       "         2006        2007        2008        2009        2010        2011  \\\n",
       "0    100834.0    101222.0    101358.0    101455.0    101669.0    102046.0   \n",
       "1  26433049.0  27100536.0  27722276.0  28394813.0  29185507.0  30117413.0   \n",
       "2  20149901.0  20905363.0  21695634.0  22514281.0  23356246.0  24220661.0   \n",
       "3   2992547.0   2970017.0   2947314.0   2927519.0   2913021.0   2905195.0   \n",
       "4     80993.0     82684.0     83862.0     84463.0     84449.0     83747.0   \n",
       "\n",
       "         2012        2013        2014  \n",
       "0    102560.0    103159.0    103774.0  \n",
       "1  31161376.0  32269589.0  33370794.0  \n",
       "2  25107931.0  26015780.0  26941779.0  \n",
       "3   2900401.0   2895092.0   2889104.0  \n",
       "4     82427.0     80774.0     79213.0  \n",
       "\n",
       "[5 rows x 31 columns]"
      ]
     },
     "execution_count": 5,
     "metadata": {},
     "output_type": "execute_result"
    }
   ],
   "source": [
    "# action set is defined as per captia\n",
    "df_pop = pd.read_csv(\"./data/population.csv\")\n",
    "df_pop = df_pop[cols]\n",
    "df_pop = df_pop.dropna()\n",
    "df_pop.head()"
   ]
  },
  {
   "cell_type": "code",
   "execution_count": 6,
   "metadata": {},
   "outputs": [],
   "source": [
    "# selecting only those codes which are common in air_polution, CO2_emission and population data.\n",
    "country_codes = list(\n",
    "    set(df_pop['Country Code']) & set(df_co2['Country Code'])\n",
    "    & set(df_air['Country Code']))\n",
    "country_codes.pop(152)\n",
    "country_codes.sort()"
   ]
  },
  {
   "cell_type": "code",
   "execution_count": 7,
   "metadata": {},
   "outputs": [],
   "source": [
    "years = df_air.columns[2:]"
   ]
  },
  {
   "cell_type": "code",
   "execution_count": 8,
   "metadata": {},
   "outputs": [
    {
     "data": {
      "text/plain": [
       "Index(['1990', '1995', '2000', '2005', '2010', '2011', '2012', '2013', '2014',\n",
       "       '2015', '2016', '2017'],\n",
       "      dtype='object')"
      ]
     },
     "execution_count": 8,
     "metadata": {},
     "output_type": "execute_result"
    }
   ],
   "source": [
    "years"
   ]
  },
  {
   "cell_type": "code",
   "execution_count": 9,
   "metadata": {},
   "outputs": [],
   "source": [
    "gradient = {}\n",
    "for abc in country_codes:\n",
    "    gradient[abc] = 0"
   ]
  },
  {
   "cell_type": "code",
   "execution_count": 11,
   "metadata": {},
   "outputs": [
    {
     "data": {
      "text/plain": [
       "[0, 0]"
      ]
     },
     "execution_count": 11,
     "metadata": {},
     "output_type": "execute_result"
    }
   ],
   "source": [
    "slope = [0, 0]"
   ]
  },
  {
   "cell_type": "code",
   "execution_count": 12,
   "metadata": {},
   "outputs": [],
   "source": [
    "for abc in country_codes:\n",
    "    x = float(df_air[df_air['Country Code'] == abc][years[1]] -\n",
    "              df_air[df_air['Country Code'] == abc][years[0]])\n",
    "    y = int(years[1]) - int(years[0])\n",
    "    slope[0] = x / y #slope represents inc. or dec. of value\n",
    "    for i in range(1, len(years) - 1):\n",
    "        x = float(df_air[df_air['Country Code'] == abc][years[i + 1]] -\n",
    "                  df_air[df_air['Country Code'] == abc][years[i]])\n",
    "        y = int(years[i + 1]) - int(years[i])\n",
    "        slope[1] = x / y\n",
    "        gradient[abc] += abs((slope[1] - slope[0]) / y) #grad represent the rate of inc. or dec.\n",
    "        slope[0] = slope[1]"
   ]
  },
  {
   "cell_type": "code",
   "execution_count": 13,
   "metadata": {},
   "outputs": [],
   "source": [
    "gradient_array = np.round([v for k,v in gradient.items()],3)"
   ]
  },
  {
   "cell_type": "code",
   "execution_count": 14,
   "metadata": {},
   "outputs": [
    {
     "data": {
      "text/plain": [
       "KMeans(n_clusters=3)"
      ]
     },
     "execution_count": 14,
     "metadata": {},
     "output_type": "execute_result"
    }
   ],
   "source": [
    "km = KMeans(n_clusters = 3)\n",
    "km.fit(np.asarray(gradient_array).reshape(-1,1))"
   ]
  },
  {
   "cell_type": "code",
   "execution_count": 65,
   "metadata": {},
   "outputs": [
    {
     "name": "stderr",
     "output_type": "stream",
     "text": [
      "No artists with labels found to put in legend.  Note that artists whose label start with an underscore are ignored when legend() is called with no argument.\n"
     ]
    },
    {
     "data": {
      "image/png": "[encoded data removed]",
      "text/plain": [
       "<Figure size 576x396 with 1 Axes>"
      ]
     },
     "metadata": {},
     "output_type": "display_data"
    }
   ],
   "source": [
    "#Getting the Centroids\n",
    "centroids = km.cluster_centers_\n",
    "u_labels = np.unique(km.labels_)\n",
    "\n",
    "#plotting the results:\n",
    "plt.scatter(gradient_array,gradient_array,c=km.labels_)\n",
    "plt.scatter(centroids[:,0] , centroids[:,0] , s = 80, color = 'red')\n",
    "plt.legend(loc='upper left')\n",
    "plt.xlabel('kmeans values')\n",
    "plt.ylabel('kmeans values')\n",
    "plt.title('K-means clusters')\n",
    "plt.show()"
   ]
  },
  {
   "cell_type": "code",
   "execution_count": 23,
   "metadata": {},
   "outputs": [
    {
     "data": {
      "image/png": "[encoded data removed]",
      "text/plain": [
       "<Figure size 576x576 with 1 Axes>"
      ]
     },
     "metadata": {
      "needs_background": "light"
     },
     "output_type": "display_data"
    }
   ],
   "source": [
    "plt.figure(figsize=(8,8))\n",
    "scatter = plt.scatter(gradient_array,gradient_array,c=km.labels_)\n",
    "plt.scatter(km.cluster_centers_,km.cluster_centers_,100,color='red',alpha=0.6)\n",
    "#plt.legend(*scatter.legend_elements(num=3),loc=\"upper left\", title=\"Agents\")\n",
    "#plt.legend((scatter),('Professions'),scatterpoints=1,loc='upper left',ncol=1,fontsize=15, facecolor='white', framealpha=1, frameon=True)\n",
    "plt.show()"
   ]
  },
  {
   "cell_type": "code",
   "execution_count": null,
   "metadata": {},
   "outputs": [
    {
     "data": {
      "text/plain": [
       "array([1, 0, 0, 1, 0, 0, 0, 0, 0, 0, 0, 1, 1, 1, 0, 1, 0, 0, 0, 0, 0, 0,\n",
       "       0, 0, 0, 1, 0, 0, 0, 0, 1, 1, 2, 0, 0, 0, 0, 1, 0, 0, 0, 0, 0, 0,\n",
       "       0, 0, 0, 1, 0, 1, 0, 1, 0, 0, 0, 0, 0, 0, 0, 0, 0, 1, 1, 1, 0, 1,\n",
       "       0, 0, 0, 0, 0, 0, 0, 0, 0, 0, 1, 1, 1, 1, 0, 0, 1, 0, 0, 1, 0, 0,\n",
       "       0, 0, 0, 0, 0, 0, 0, 1, 0, 0, 0, 0, 1, 0, 0, 0, 0, 1, 1, 1, 1, 0,\n",
       "       0, 0, 0, 1, 0, 1, 1, 0, 0, 1, 1, 0, 1, 0, 0, 0, 0, 2, 2, 0, 0, 0,\n",
       "       1, 0, 0, 1, 0, 0, 0, 0, 0, 0, 0, 1, 0, 0, 0, 0, 2, 0, 0, 1, 2, 1,\n",
       "       1, 1, 0, 1, 1, 0, 1, 1, 0, 0, 0, 0, 0, 0, 0, 2, 1, 1, 0, 0, 1, 0,\n",
       "       1, 1, 0, 0, 0, 0, 0, 1, 0, 0, 0, 0, 0, 0, 1, 0, 1, 0, 0])"
      ]
     },
     "execution_count": null,
     "metadata": {},
     "output_type": "execute_result"
    }
   ],
   "source": [
    "km.labels_"
   ]
  },
  {
   "cell_type": "code",
   "execution_count": null,
   "metadata": {},
   "outputs": [],
   "source": [
    "df_co2.index = np.arange(0, len(df_co2), 1)\n",
    "df_pop.index = np.arange(0, len(df_pop), 1)"
   ]
  },
  {
   "cell_type": "code",
   "execution_count": null,
   "metadata": {},
   "outputs": [],
   "source": [
    "drop_array = []\n",
    "for i in range(0, len(df_co2['Country Code'])):\n",
    "    if df_co2['Country Code'].tolist()[i] not in country_codes:\n",
    "        drop_array.append(i)\n",
    "df_co2 = df_co2.drop(drop_array)\n",
    "df_co2.index = np.arange(0, len(df_co2), 1)"
   ]
  },
  {
   "cell_type": "code",
   "execution_count": null,
   "metadata": {},
   "outputs": [],
   "source": [
    "drop_array = []\n",
    "for i in range(0, len(df_pop['Country Code'])):\n",
    "    if df_pop['Country Code'][i] not in country_codes:\n",
    "        drop_array.append(i)\n",
    "df_pop = df_pop.drop(drop_array)\n",
    "df_pop.index = np.arange(0, len(df_pop), 1)"
   ]
  },
  {
   "cell_type": "code",
   "execution_count": null,
   "metadata": {},
   "outputs": [],
   "source": [
    "df_pop.insert(0,'Gradient',km.labels_,True)\n",
    "df_co2.insert(0,'Gradient',km.labels_,True)"
   ]
  },
  {
   "cell_type": "code",
   "execution_count": null,
   "metadata": {},
   "outputs": [],
   "source": [
    "df_pop = df_pop.sort_values(by=['Gradient','Country Code'],ascending=True)\n",
    "df_co2 = df_co2.sort_values(by=['Gradient','Country Code'],ascending=True)\n",
    "df_co2.index = np.arange(0, len(df_co2), 1)\n",
    "df_pop.index = np.arange(0, len(df_pop), 1)"
   ]
  },
  {
   "cell_type": "code",
   "execution_count": null,
   "metadata": {},
   "outputs": [],
   "source": [
    "def co2_emm(u, v):\n",
    "    def co2_emm_helper(u, v):\n",
    "        total_pop = 0\n",
    "        total_co2 = 0\n",
    "        total_pop1 = 0\n",
    "        for i in range(0, v - u):\n",
    "            total_co2 += pop[i] * co2[i]\n",
    "            total_pop += int(pop[i])\n",
    "        return total_co2 / total_pop\n",
    "\n",
    "    yo = 0.0\n",
    "    co2 = []\n",
    "    pop = []\n",
    "    for i in range(1985, 2015):\n",
    "        co2 = df_co2[str(i)][u:v].tolist()\n",
    "        pop = df_pop[str(i)][u:v].tolist()\n",
    "        yo += co2_emm_helper(u, v)\n",
    "    return (yo * 0.00963)"
   ]
  },
  {
   "cell_type": "code",
   "execution_count": null,
   "metadata": {},
   "outputs": [],
   "source": [
    "len_LT = len(df_pop[df_pop['Gradient']==0])\n",
    "len_MT = len(df_pop[df_pop['Gradient']==1])\n",
    "len_ST = len(df_pop[df_pop['Gradient']==2])"
   ]
  },
  {
   "cell_type": "code",
   "execution_count": null,
   "metadata": {},
   "outputs": [
    {
     "data": {
      "text/plain": [
       "0.9607159178813849"
      ]
     },
     "execution_count": null,
     "metadata": {},
     "output_type": "execute_result"
    }
   ],
   "source": [
    "co2_emm(0,195)"
   ]
  },
  {
   "cell_type": "code",
   "execution_count": null,
   "metadata": {},
   "outputs": [
    {
     "name": "stdout",
     "output_type": "stream",
     "text": [
      "LT:  1.5215633172859166 \n",
      "MT:  0.8029825138288714 \n",
      "ST:  0.6971150904142657\n"
     ]
    }
   ],
   "source": [
    "yo_LT = co2_emm(0, len_LT)\n",
    "yo_MT = co2_emm(len_LT, len_LT+len_MT)\n",
    "yo_ST = co2_emm(len_LT+len_MT, len_LT+len_MT+len_ST)\n",
    "print('LT: ', yo_LT, '\\nMT: ', yo_MT, '\\nST: ', yo_ST)"
   ]
  },
  {
   "cell_type": "code",
   "execution_count": null,
   "metadata": {},
   "outputs": [],
   "source": [
    "LT_values = df_co2.values[0:len_LT, 2:]\n",
    "MT_values = df_co2.values[len_LT:len_LT+len_MT, 2:]\n",
    "ST_values = df_co2.values[len_LT+len_MT:len_LT+len_MT+len_ST, 2:]"
   ]
  },
  {
   "cell_type": "code",
   "execution_count": null,
   "metadata": {},
   "outputs": [],
   "source": [
    "for i in range(0, len_LT):\n",
    "    LT_values[i] = LT_values[i] * (yo_LT / sum(LT_values[i]))\n",
    "\n",
    "for i in range(0, len_MT):\n",
    "    MT_values[i] = MT_values[i] * (yo_MT / sum(MT_values[i]))\n",
    "\n",
    "for i in range(0, len_ST):\n",
    "    ST_values[i] = ST_values[i] * (yo_ST / sum(ST_values[i]))"
   ]
  },
  {
   "cell_type": "code",
   "execution_count": null,
   "metadata": {},
   "outputs": [
    {
     "data": {
      "text/plain": [
       "3.0216609215290546"
      ]
     },
     "execution_count": null,
     "metadata": {},
     "output_type": "execute_result"
    }
   ],
   "source": [
    "sum(ST_values[1]) + sum(MT_values[1]) + sum(LT_values[1])"
   ]
  },
  {
   "cell_type": "code",
   "execution_count": null,
   "metadata": {},
   "outputs": [
    {
     "data": {
      "text/plain": [
       "3.0216609215290537"
      ]
     },
     "execution_count": null,
     "metadata": {},
     "output_type": "execute_result"
    }
   ],
   "source": [
    "sum(ST_values[5]) + sum(MT_values[5]) + sum(LT_values[5])"
   ]
  },
  {
   "cell_type": "code",
   "execution_count": null,
   "metadata": {},
   "outputs": [],
   "source": [
    "def pop_manager(u, v):\n",
    "    yo = []\n",
    "    pop = []\n",
    "    for i in range(1985, 2015):\n",
    "        pop = df_pop[str(i)][u:v].tolist()\n",
    "        yo.append(int(sum(pop)))\n",
    "    return yo"
   ]
  },
  {
   "cell_type": "code",
   "execution_count": null,
   "metadata": {},
   "outputs": [
    {
     "name": "stdout",
     "output_type": "stream",
     "text": [
      "LT:  16359651010 \n",
      "MT:  57434513485 \n",
      "ST:  265366668\n"
     ]
    }
   ],
   "source": [
    "LT_values = LT_values.tolist()\n",
    "LT_values.append(pop_manager(0, len_LT))\n",
    "\n",
    "MT_values = MT_values.tolist()\n",
    "MT_values.append(pop_manager(len_LT, len_LT+len_MT))\n",
    "\n",
    "ST_values = ST_values.tolist()\n",
    "ST_values.append(pop_manager(len_LT+len_MT, len_LT+len_MT+len_ST))\n",
    "print('LT: ', LT_values[-1][-1], '\\nMT: ', MT_values[-1][-1], '\\nST: ',\n",
    "      ST_values[-1][-1])"
   ]
  },
  {
   "cell_type": "code",
   "execution_count": null,
   "metadata": {},
   "outputs": [],
   "source": [
    "df_LT = pd.DataFrame(LT_values, columns=df_co2.columns[2:])\n",
    "df_MT = pd.DataFrame(MT_values, columns=df_co2.columns[2:])\n",
    "df_ST = pd.DataFrame(ST_values, columns=df_co2.columns[2:])"
   ]
  },
  {
   "cell_type": "code",
   "execution_count": null,
   "metadata": {},
   "outputs": [],
   "source": [
    "df_LT.to_csv('./metadata/LT_db.csv')\n",
    "df_MT.to_csv('./metadata/MT_db.csv')\n",
    "df_ST.to_csv('./metadata/ST_db.csv')"
   ]
  }
 ],
 "metadata": {
  "kernelspec": {
   "display_name": "Python 3",
   "language": "python",
   "name": "python3"
  },
  "language_info": {
   "codemirror_mode": {
    "name": "ipython",
    "version": 3
   },
   "file_extension": ".py",
   "mimetype": "text/x-python",
   "name": "python",
   "nbconvert_exporter": "python",
   "pygments_lexer": "ipython3",
   "version": "3.9.1"
  },
  "varInspector": {
   "cols": {
    "lenName": 16,
    "lenType": 16,
    "lenVar": 40
   },
   "kernels_config": {
    "python": {
     "delete_cmd_postfix": "",
     "delete_cmd_prefix": "del ",
     "library": "var_list.py",
     "varRefreshCmd": "print(var_dic_list())"
    },
    "r": {
     "delete_cmd_postfix": ") ",
     "delete_cmd_prefix": "rm(",
     "library": "var_list.r",
     "varRefreshCmd": "cat(var_dic_list()) "
    }
   },
   "types_to_exclude": [
    "module",
    "function",
    "builtin_function_or_method",
    "instance",
    "_Feature"
   ],
   "window_display": false
  }
 },
 "nbformat": 4,
 "nbformat_minor": 2
}
