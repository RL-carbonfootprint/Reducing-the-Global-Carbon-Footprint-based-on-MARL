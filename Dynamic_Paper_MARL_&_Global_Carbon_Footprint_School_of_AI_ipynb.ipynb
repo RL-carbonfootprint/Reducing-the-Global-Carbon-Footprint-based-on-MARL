{
 "cells": [
  {
   "cell_type": "markdown",
   "metadata": {},
   "source": [
    "<center> \n",
    "    <h1> Reducing the Global Carbon Footprint based on MARL</h1>\n",
    "</center>\n",
    "<br>"
   ]
  },
  {
   "cell_type": "markdown",
   "metadata": {
    "colab_type": "text",
    "id": "MSRtxohCRsrU"
   },
   "source": [
    "**Abstract**\n",
    "\n",
    "<br>This research paper intends to model the investment of groups of countries into carbon emission reductions based on a Mixed Markov Game setting, applying the principles of off-policy single-agent Reinforcement Learning to a multi-agent setting with a Markov Decision Process (MDP).\n",
    "The study shows that countries which are choosing their carbon emission reduction actions under the constraint of optimizing their and their partners’ mid-term economic benefit, achieve both higher cumulative rewards and higher reductions in their per capita CO2 consumption, than their counterparts. It also shows that action choices considering immediate and future rewards for the individual agents, as well as the cumulative reward of all agents, converge to large reductions in the carbon emission level per capita of these countries. Multi-agent reinforcement learning (MARL) bears important problem-solving potential by modelling economic and political decision makers in simulated environments.\n",
    "\n",
    "<br>**Keywords:** *reinforcement learning, game theory, climate change, global warming, global carbon emissions, global carbon footprint, multi-agent reinforcement learning, mixed markov games, markov decision process, q-learning, correlated equilibrium, temporal-difference learning* "
   ]
  },
  {
   "cell_type": "markdown",
   "metadata": {
    "colab_type": "text",
    "id": "zqQ9O6BDUGGl"
   },
   "source": [
    "## 1\tClimate Change and Game Theory\n",
    "\n",
    "\n",
    "---\n",
    "\n",
    "The following chapter introduces evidence and issues of climate change. The chapter talks about root causes, potential solutions, as well as economics of climate change and global warming. It finally models climate change as a non-cooperative game with an inefficient Nash equilibrium and sets the stage for multi-agent reinforcement learning (MARL) as an approach to overcoming this Nash equilibrium.\n",
    "\n",
    "\n",
    "### 1.1\tEvidence of Global Warming\n",
    "\n",
    "This paper is not discussing the impact and consequences of global warming in detail and assumes that undertaking measures to preventing global warming is reasonable. According to Budd (2016), there are at least five indicators that the global climate is changing: the rise of the Earth’s temperature, the loss of Arctic sea ice, the increase in mean sea level over the last 100 years, the increase in the number of events of extreme rainfall and the increased level of carbon dioxide in the atmosphere.\n",
    "\n",
    "### 1.2\tRoot Causes of Global Warming\n",
    "\n",
    "The reasons for man-made global warming lie in the well-known and -discussed greenhouse effect. So-called “heat-trapping gases” or “greenhouse gases” prevent the reflected thermal energy of the sun from escaping into space. While the existence of these gases is essential to sustain human life on earth, their abundance is a cause of global warming. And human activity has indeed led to increased concentration of heat-trapping gases in the atmosphere. Additionally, human-induced changes have reduced nature’s capacity to absorb these gases, for instance through deforestation (Kelman, 2015). The main heat-trapping gases are carbon dioxide (CO2), methane (CH4), nitrous oxide (N2O) and water vapor (H2O, UCS USA, 2017). According to the Intergovernmental Panel on Climate Change IPCC (2013), of all these gases, carbon dioxide both has contributed by far the most to climate change between 1750 and 2011 and by far resides the longest in the atmosphere. Global CO2 emissions are currently (2014) at 4.97 metric tons per capita, up from 3.1 metric tons in 1960. Additionally, the world’s population has grown substantially over said time period (The World Bank, 2018). This paper assumes the consumption of CO2 to be the main factor when it comes to human-made global warming and climate change and subsequently focuses on the reduction of said consumption. The “World Economic and Social Survey” by the United Nations in 2011 proposes to cap the CO2 emissions per capita at 3 tons until 2050 (United Nations, 2011). According to the Intergovernmental Panel on Climate Change (IPCC, 2018), carbon emission intensity needs to be drastically reduced in order for us to be able to cap global warming to 1.5-2°C until 2100, as set by the Paris Agreement (United Nations Framework Convention on Climate Change (UNFCCC), 2018). \n",
    "\n",
    "The Carbon Disclosure Project (CDP, 2017) released a report that attributes half of global industrial greenhouse gas emissions since 1751 (around 1 trillion tons of carbon dioxide) to not more than 100 fossil fuel extracting firms, most of them in the coal, oil or gas sectors. As these companies are bound to operate at locations and jurisdictions that contain large volumes of carbon-based natural resources, limiting or altering their operations (e.g. through large-scale abatement techniques, such as carbon capture and sequestration) and thus their emissions would be subject to regulations in these jurisdictions. However, the major driving force behind greenhouse gas emissions is not the production of fossil fuels, but the consumption thereof. The major consumers of fossil fuels and their products are large industrial and emerging economies, with China and the United States being responsible for about half of the world’s greenhouse gas emissions (Talbot, 2014). In order to counteract global warming, it is the responsibility of these economies to reduce consumption of fossil fuels, by either leveraging alternative energy sources (such as renewable energies) and/or reducing their economic output overall.\n",
    "\n",
    "### 1.3\tEconomics of Climate Change Mitigation\n",
    "\n",
    "At this point in time, costs and benefits of reducing fossil fuel consumption cannot be estimated accurately. As emitted CO2 lasts about 100 years in the atmosphere, costly reduction measures with high uncertainty about timing and size of incurred benefits in the future seem hard to sell to taxpayers and large emitters today.\tHowever, there are large and immediate economic benefits from reducing CO2 emissions, such as a reduction in damages from air pollution, energy efficiency and impact on competitiveness (Hamilton, 2017). McKinsey’s greenhouse gas abatement curve is one of the more advanced approaches to estimate abatement cost with a time horizon until 2030. It shows the trade-off between cost and abatement potential. The model maps the impact of abatement measures (CO2 saved through each measure) with their net cost, limited to measures which do not cause more than 60 Euro in net cost per ton of CO2 eliminated (McKinsey & Company, 2013). Some of the measures (most of them related to energy efficiency or land management) show a positive economic outcome until 2030. In fact, the total economic cost of implementing all options of the model would be less than 1% of the global GDP by 2030, totaling 47 billion tons of CO2 saved per year (Ritchie, 2017). Additionally, most positive economic long-term effects are hard to estimate, such as the health impact of reducing air pollution in China. Also, it is likely that further technology advancements and innovations will reduce the cost of abatement (Zenghelis, 2018). However, the highest-impact measures are typically on the expensive side of the scale, combining an initially high capital intensity of investment with a decrease of operating costs spread over the following years. For all measures combined, upfront capital investments of 530 billion Euro per year by 2020 and 810 billion Euro per year by 2030 would be required (Ritchie, 2017).\n",
    "\n",
    "Given the benefits of CO2 reductions outweighing the cost and given the increased pressure on policy makers and carbon emitters – why is progress in CO2 reductions not taking place in an accelerated manner? Arguably, because the magnitude of benefits many times is unclear and the benefits cannot be distributed to one party (in particular, the party where the cost occurred), but the measures in general tend to benefit all actors, also passive ones, called “free-riders” (Traeger, 2009). \n",
    "\n",
    "### 1.4\tPolitics of Climate Change Mitigation\n",
    "\n",
    "Entering the field of game theory might lead to a better understanding of the dynamics between the actors that are responsible for reducing CO2 emissions and thus should support in drawing conclusions on what results these actors might achieve depending on the reward maximization scheme they are applying. Dyke (2016) argues that climate change offers a good setup for a so-called “general-sum stochastic game”, with individual actors (be it countries, corporations, investors or consumers) depleting a common resource – the earth’s capacity to absorb CO2 – to their short-term individual financial benefit. There is thus a misalignment between incentives for the individual and the group. In game theory, a game in which individuals collectively deplete a common-pool resource is called the “tragedy of the commons”. The existence of this sort of game in climate change is currently fostered by the absence of a multinational regulatory system that would reward cooperation and punish free riding caused by a reward maximization scheme that is purely based on short-term self-interest (Dyke, 2016). \n",
    "\n",
    "While in former critical political situations, locally induced approaches to cooperation have shown over time to build trust between actors and enable large-scale cooperation and social norms that benefit the collective, the issue arising in climate change is the difference in magnitude and timeframe of the negative impact of climate change that individual nations and groups of nations face. While a developing country in the midst of the sea rather tends to face a strong negative impact in a mid-term scenario of further rising sea levels (one such example is Papua New Guinea), a landlocked and developed country with a moderate climate and a strongly service and industrial sector-oriented economic output might not face significant negative impact by climate change in the near future (Kelman, 2015). Additionally, the economic operations of these developed and industrialised countries tend to have the largest impact on the climate, with these countries remaining least affected in the mid-term (Dyke, 2016). In game theory, when all parties are to choose an action considering the probability of the actions that other parties take given their assumed reward maximization scheme, they will choose the action that maximizes their individual benefit, given the actions that they assume the other parties to take. When, in a non-cooperative game, neither party can change their action without foregoing some of their individual benefit, we call this a “Nash equilibrium”. In the case of climate negotiations, collectively postponing action has been the norm Nash equilibrium in the past and present, even though not being efficient (meaning not maximizing the cumulative benefit for all parties, Traeger, 2009). \n",
    "\n",
    "Previous policy attempts could not proceed past the soft law stage, leaving it open for the parties to not participate at all or to later decide to not comply with the rules (Traeger, 2009). As the effects of climate change move closer, non-Nash strategies, like local alliances and cooperation, need to enter main-stage in order to prevent further future damage (Mond, 2013; Traeger, 2009), given that global cooperation or law enforcement strategies have failed so far. Progressive policy making could also foster to break out of the Nash equilibrium, by making individual actions rational, for instance through a global fund that benefits those countries, corporations and subsequently individuals, that actively reduce CO2 emissions (Kenyon, 2018). Another approach is linking the commitment to international environmental soft law with the membership in important multinational organizations (like WTO or EU), such that free-riding parties are potentially excluded from these organizations, as proposed by Traeger (2009). Kelman (2015) criticizes that climate change is tackled separately from the other sustainable development goals (SDG), and that a more integrated and interdisciplinary policy approach needs to be implemented. "
   ]
  },
  {
   "cell_type": "markdown",
   "metadata": {
    "colab_type": "text",
    "id": "1kPC5zJPVU22"
   },
   "source": [
    "## 2\tMulti-Agent Reinforcement Learning and Mixed Markov Games\n",
    "\n",
    "\n",
    "---\n",
    "\n",
    "In the following chapter, we will enter the world of reinforcement learning and explore how multi-agent reinforcement learning might help us to draw important insights to solve the problem of climate change.\n",
    "\n",
    "### 2.1\tReinforcement Learning & Q-Learning\n",
    "\n",
    "In reinforcement learning, an agent learns to behave in order to maximize its cumulative reward in an environment by choosing some action from a (finite or infinite) action space and given an initial state, receiving a reward and observing a subsequent transition of the state. Such a process is called a “Markov Decision Process” (MDP). The goal of an agent in an MDP is to maximize its discounted cumulative reward (defined by a reward function). By actively pursuing its goal, the agent either directly follows or subsequently creates a policy, which maps potential states to the actions that the agent is assumed to take to maximize its reward. While a deterministic policy maps a state to a single best action, a stationary policy assigns a probability distribution over actions to be taken to each state (Littman, 2000). In an environment that does not arrive with a pre-set policy, so-called “off-policy” methods can estimate the value of each action given a particular state, the so-called “action-value” (Busoniu et al., 2010).\n",
    "\n",
    "Q-Learning is a model-free, off-policy action-value estimation method that always converges to the optimal policy, based on a so-called “Q-table”, consisting of all possible states (rows) and actions (columns) in an environment, showing the result of the so-called “Q-function” for each given state-action pair. The Q-function, denoted as\n",
    "\t\t\t\t\n",
    " <center> $Q^\\ast\\left(s,a\\right)=r\\left(s,a\\right)+\\ \\gamma\\ \\ast\\ Q\\ast\\left(s\\prime,a\\right)$ </center>\n",
    "\n",
    "\n",
    "\n",
    ", calculates Q-values, representing the reward r of an action a in a given state s, plus the maximum reward achievable by the best action a’ in the next state s’, discounted by the factor gamma $\\gamma$ (temporal-difference learning). Q* denotes the highest Q-value for a given row, thus defines the action in a given state that achieves the highest Q-value (Valkov, 2017). \n",
    "\n",
    "The Q-table is updated after each iteration by\n",
    "\n",
    "<center>\n",
    "$Q(s,a)\\ =\\ (1-\\alpha)\\ \\ \\ast\\ \\ Q(s,a)\\ +\\ \\alpha\\ast\\ (r\\ +\\ \\gamma\\ \\ \\ast\\ {\\ Q}^\\ast(s\\prime,a))$\n",
    "</center>\n",
    "\n",
    ", where $\\alpha$ denotes the learning rate of the algorithm and ${\\ Q}^\\ast(s\\prime,a)$ denotes the value of the next state as the maximal Q-value for the best action in the next state (Kansal & Martin, 2018).\n",
    "In order for the agent to not just exploit the best action based on previous observations and the learned Q-values, but also keep exploring the other options in order to receive Q-values for the whole action space, agents are adjusted to sometimes take randomized actions, as controlled by the parameter epsilon ε (Littman, 2000). \n",
    "\n",
    "\n",
    "### 2.2\tMulti-Agent Reinforcement Learning\n",
    "\n",
    "When multiple agents apply reinforcement learning in a shared environment, their optimal policies are additionally dependent from the other agents’ actions and policies (Nowé, 2014).\n",
    "Multi-agent Q-Learning (MultiQ) is the concept of extending the Q-function by not just mapping all possible states with all possible actions of one agent, but with the potential combination of actions of all agents in the game. Multi-agent Q-Learning thus faces the challenge of the “curse of dimensionality”, meaning an exponential increase of required storage and computing power for each additional modelled state and agent (Greenwald & Hall, 2003). An alternative for modelling multiple agents in a Markov Decision Process and approximating their optimal Q-values is to rely on single-agent Q-learning. In this scenario, the Q-functions for each agent are calculated separately, based on their own actions only. This means that the actions of the other agents do not directly influence the Q-values of a given agent. However, depending on the model, the shared state of the agents can influence the actions of the individual agents, thus leading to an indirect dependence between their actions, as all their actions impact the shared state (Busoniu et al., 2010).\n",
    "\n",
    "\n",
    "### 2.3\tMixed Markov Games & Correlated Equilibria\n",
    "\n",
    "A game containing agents that are neither fully collaborative nor fully competitive is called a “Mixed Game”. A mixed game within a dynamic environment, where the agents optimize an MDP as independent learners and in a decentralized manner, is called a “Mixed Markov Game” (MG). As such, the MG is a general-sum game, meaning that receiving rewards is not mutually exclusive and thus the benefit of one agent is not necessarily to the disadvantage of the other agents (which would be a zero-sum game, Pérolat, 2016).\n",
    "\n",
    "While the pursuit of a Nash equilibrium is not always efficient (Traeger, 2009), the concept of a “correlated equilibrium” generalizes the Nash equilibrium and allows the agents to both make their decision dependent on the other agents’ decisions, but also to optimize according to their own reward function. Correlated-Q Learning applies the correlated equilibrium to Markov Games. While agents are still allowed to optimize their reward functions individually (based on single-agent Q-Learning), their reward function itself is subject to consideration of the other agents’ rewards in an equilibrium policy (Greenwald & Hall, 2003). Greenwald and Hall define four different equilibrium policies that each maximize the sum, maximum or minimum of either each of the individual agents’, some of the individual agents’ or the cumulative reward. An equilibrium policy that maximizes the sum of the agents’ rewards is called a “utilitarian policy” (Greenwald & Hall, 2003)."
   ]
  },
  {
   "cell_type": "markdown",
   "metadata": {
    "colab_type": "text",
    "id": "uasZ5Nb_ZC55"
   },
   "source": [
    "## 3\tApproach\n",
    "\n",
    "\n",
    "---\n",
    "\n",
    "This study models the behavior of multiple agents representing groups of nation states in reducing their CO2 consumption while taking actions selfishly but not competitively, in a mixed Markov game setting with a global state and correlated reward functions and policies, modelled based on Coordination Equilibrium Q-Learning (CE-Q) reaching a utilitarian equilibrium, and reinforcement learning. The goal of the Markov game is to overcome the “Tragedy of the commons”, where multiple agents deplete a natural resource by purely maximizing their individual benefit (Dyke, 2016).\n",
    "\n",
    "<br>The following simulation setup is chosen:\n",
    "\n",
    "\n",
    "*  The agents play a mixed Markov stochastic game with a fully observable environment and a known state transition function.\n",
    "*  There are three agents, defined as groups of countries. The first agent is not estimated to be immediately affected by the effects of global warming, but only in the longer term. Let us call it the “long-term impact agent” (LT). The second agent experiences a slight impact in the short-term and is equally affected in the longer term. Let us call it the “mid-term impact agent” (MT). The third agent is estimated to be already affected by the effects of global warming in the shorter term and equally affected in the longer term. Let us call it the “short-term impact agent” (ST).\n",
    "\n",
    "*   There is one global state which is initialized and defined as a small normalized scalar number representing the real global CO2 consumption of t0 (the starting year of the game). These are `4.025` tons CO2 per capita as of `1984`, as defined by the World Bank (2018)\n",
    "\n",
    "*   The number of state transitions (between two states or “periods”), representing the number of years the game is played, is chosen by the spectator of the simulation. The spectator can choose between 1 and 30 years.\n",
    "\n",
    "*   The number of learning epochs of the algorithm is also defined by the spectator of the simulation. The spectator can choose between 1 and 50 learning epochs.\n",
    "\n",
    "*   The agents undertake parallel actions which are defined as the per capita `usage` in the CO2 consumption of the agents. LT has a higher (but non-greedy) tendency for exploitative actions, whereas ST has a higher tendency for explorative actions, as defined by their respective epsilon ε values. The actions are chosen from a finite action space. The epsilon values are decayed over time. This allows the agents to explore larger parts of the action space (Busoniu et al., 2010).\n",
    "\n",
    "\n",
    "*   ` Action Space is changed according to clustering performed within \"creating_database.ipynb\" `\n",
    "\n",
    "\n",
    "*  The state transition function for a given period is defined as the global state before that period, minus the average per capita CO2 consumption reduction achieved by all agents in that period.\n",
    "\n",
    "\n",
    "*   The immediate rewards of the agents are defined based on the per capita CO2 consumption reduction achieved by the agent, multiplied by a reward factor (scalar number between 0 and 1), which varies depending on the agent, and subtracted by the cost of action, which is defined as the per capita CO2 consumption reduction and is multiplied by a cost factor, which is defined as `10`.\n",
    "\n",
    "\n",
    "*   LT receives a lower scalar reward factor, thus a smaller immediate reward. This is because the long-term agent does not necessarily feel the negative impact of climate change directly. Its motivation to invest in CO2 emission reductions – the agent considering mid- to long-term impact effects of investment decisions – is lower.\n",
    "\n",
    "\n",
    "*   On the other end of the spectrum, ST receives a higher scalar reward factor, thus a higher immediate reward. This is because the short-term agent does feel the negative impact of climate change sooner. Its motivation to invest in CO2 emission reductions is higher.\n",
    "\n",
    "\n",
    "*   The discounted future reward of the next state is modelled based on Q-learning. The discount factor of the future reward γ is the same for all agents, given that all agents face the same long-term effects. The learning rate α is decayed over time (Bowling & Veloso, 2001).\n",
    "\n",
    "*   The cumulative reward is defined as the sum of the immediate rewards of all agents in the respective period, plus the sum of the per capita CO2 consumption reductions achieved by the agents in the respective period, multiplied by a scalar factor.\n",
    "*   Three different policies emerge from training the agents in the simulation – selfish, greedy and utilitarian policies. These policies are compared regarding the cumulative reward they achieve, as well as the per capita CO2 consumption reduction they achieve, expressed by the final global state in the end period. In the selfish policy, the agents choose those actions which they have learned to maximize the sum of their respective individual immediate and future rewards. Under greedy policies, the agents choose those actions that maximize their respective individual immediate rewards in the respective period. Finally, under utilitarian policies, the agents choose those actions which maximize the cumulative reward over all periods."
   ]
  },
  {
   "cell_type": "code",
   "execution_count": null,
   "metadata": {},
   "outputs": [],
   "source": [
    "#importing dependencies\n",
    "import numpy as np\n",
    "import random\n",
    "import pandas as pd\n",
    "import matplotlib.pyplot as plt\n",
    "plt.style.use('seaborn')"
   ]
  },
  {
   "cell_type": "code",
   "execution_count": null,
   "metadata": {},
   "outputs": [
    {
     "data": {
      "text/html": [
       "<div>\n",
       "<style scoped>\n",
       "    .dataframe tbody tr th:only-of-type {\n",
       "        vertical-align: middle;\n",
       "    }\n",
       "\n",
       "    .dataframe tbody tr th {\n",
       "        vertical-align: top;\n",
       "    }\n",
       "\n",
       "    .dataframe thead th {\n",
       "        text-align: right;\n",
       "    }\n",
       "</style>\n",
       "<table border=\"1\" class=\"dataframe\">\n",
       "  <thead>\n",
       "    <tr style=\"text-align: right;\">\n",
       "      <th></th>\n",
       "      <th>1985</th>\n",
       "      <th>1986</th>\n",
       "      <th>1987</th>\n",
       "      <th>1988</th>\n",
       "      <th>1989</th>\n",
       "      <th>1990</th>\n",
       "      <th>1991</th>\n",
       "      <th>1992</th>\n",
       "      <th>1993</th>\n",
       "      <th>1994</th>\n",
       "      <th>...</th>\n",
       "      <th>2005</th>\n",
       "      <th>2006</th>\n",
       "      <th>2007</th>\n",
       "      <th>2008</th>\n",
       "      <th>2009</th>\n",
       "      <th>2010</th>\n",
       "      <th>2011</th>\n",
       "      <th>2012</th>\n",
       "      <th>2013</th>\n",
       "      <th>2014</th>\n",
       "    </tr>\n",
       "  </thead>\n",
       "  <tbody>\n",
       "    <tr>\n",
       "      <th>0</th>\n",
       "      <td>0.031377</td>\n",
       "      <td>0.030028</td>\n",
       "      <td>0.036176</td>\n",
       "      <td>0.030818</td>\n",
       "      <td>0.029076</td>\n",
       "      <td>0.028706</td>\n",
       "      <td>0.027628</td>\n",
       "      <td>0.027295</td>\n",
       "      <td>0.029370</td>\n",
       "      <td>0.019157</td>\n",
       "      <td>...</td>\n",
       "      <td>0.065541</td>\n",
       "      <td>0.073472</td>\n",
       "      <td>0.079996</td>\n",
       "      <td>0.078790</td>\n",
       "      <td>0.082076</td>\n",
       "      <td>0.082719</td>\n",
       "      <td>0.083290</td>\n",
       "      <td>0.088445</td>\n",
       "      <td>0.083363</td>\n",
       "      <td>0.085792</td>\n",
       "    </tr>\n",
       "    <tr>\n",
       "      <th>1</th>\n",
       "      <td>0.093806</td>\n",
       "      <td>0.094065</td>\n",
       "      <td>0.085197</td>\n",
       "      <td>0.082286</td>\n",
       "      <td>0.098226</td>\n",
       "      <td>0.059224</td>\n",
       "      <td>0.046310</td>\n",
       "      <td>0.027341</td>\n",
       "      <td>0.025544</td>\n",
       "      <td>0.021182</td>\n",
       "      <td>...</td>\n",
       "      <td>0.049850</td>\n",
       "      <td>0.045970</td>\n",
       "      <td>0.046668</td>\n",
       "      <td>0.052384</td>\n",
       "      <td>0.052783</td>\n",
       "      <td>0.055711</td>\n",
       "      <td>0.063656</td>\n",
       "      <td>0.059746</td>\n",
       "      <td>0.061733</td>\n",
       "      <td>0.069834</td>\n",
       "    </tr>\n",
       "    <tr>\n",
       "      <th>2</th>\n",
       "      <td>0.070727</td>\n",
       "      <td>0.063203</td>\n",
       "      <td>0.060189</td>\n",
       "      <td>0.057532</td>\n",
       "      <td>0.061108</td>\n",
       "      <td>0.055050</td>\n",
       "      <td>0.056957</td>\n",
       "      <td>0.054808</td>\n",
       "      <td>0.058760</td>\n",
       "      <td>0.061687</td>\n",
       "      <td>...</td>\n",
       "      <td>0.048992</td>\n",
       "      <td>0.045232</td>\n",
       "      <td>0.042550</td>\n",
       "      <td>0.042956</td>\n",
       "      <td>0.041056</td>\n",
       "      <td>0.036401</td>\n",
       "      <td>0.035788</td>\n",
       "      <td>0.037342</td>\n",
       "      <td>0.035918</td>\n",
       "      <td>0.044396</td>\n",
       "    </tr>\n",
       "    <tr>\n",
       "      <th>3</th>\n",
       "      <td>0.042733</td>\n",
       "      <td>0.043573</td>\n",
       "      <td>0.047311</td>\n",
       "      <td>0.049234</td>\n",
       "      <td>0.046751</td>\n",
       "      <td>0.044131</td>\n",
       "      <td>0.045438</td>\n",
       "      <td>0.046456</td>\n",
       "      <td>0.044559</td>\n",
       "      <td>0.045671</td>\n",
       "      <td>...</td>\n",
       "      <td>0.053501</td>\n",
       "      <td>0.057314</td>\n",
       "      <td>0.056660</td>\n",
       "      <td>0.060562</td>\n",
       "      <td>0.057060</td>\n",
       "      <td>0.059136</td>\n",
       "      <td>0.059614</td>\n",
       "      <td>0.059162</td>\n",
       "      <td>0.057742</td>\n",
       "      <td>0.061374</td>\n",
       "    </tr>\n",
       "    <tr>\n",
       "      <th>4</th>\n",
       "      <td>0.042411</td>\n",
       "      <td>0.042433</td>\n",
       "      <td>0.046829</td>\n",
       "      <td>0.048660</td>\n",
       "      <td>0.048474</td>\n",
       "      <td>0.047455</td>\n",
       "      <td>0.044394</td>\n",
       "      <td>0.043036</td>\n",
       "      <td>0.043353</td>\n",
       "      <td>0.041859</td>\n",
       "      <td>...</td>\n",
       "      <td>0.055345</td>\n",
       "      <td>0.056380</td>\n",
       "      <td>0.058703</td>\n",
       "      <td>0.059114</td>\n",
       "      <td>0.061749</td>\n",
       "      <td>0.062601</td>\n",
       "      <td>0.060446</td>\n",
       "      <td>0.060952</td>\n",
       "      <td>0.060215</td>\n",
       "      <td>0.060367</td>\n",
       "    </tr>\n",
       "  </tbody>\n",
       "</table>\n",
       "<p>5 rows × 30 columns</p>\n",
       "</div>"
      ],
      "text/plain": [
       "       1985      1986      1987      1988      1989      1990      1991  \\\n",
       "0  0.031377  0.030028  0.036176  0.030818  0.029076  0.028706  0.027628   \n",
       "1  0.093806  0.094065  0.085197  0.082286  0.098226  0.059224  0.046310   \n",
       "2  0.070727  0.063203  0.060189  0.057532  0.061108  0.055050  0.056957   \n",
       "3  0.042733  0.043573  0.047311  0.049234  0.046751  0.044131  0.045438   \n",
       "4  0.042411  0.042433  0.046829  0.048660  0.048474  0.047455  0.044394   \n",
       "\n",
       "       1992      1993      1994  ...      2005      2006      2007      2008  \\\n",
       "0  0.027295  0.029370  0.019157  ...  0.065541  0.073472  0.079996  0.078790   \n",
       "1  0.027341  0.025544  0.021182  ...  0.049850  0.045970  0.046668  0.052384   \n",
       "2  0.054808  0.058760  0.061687  ...  0.048992  0.045232  0.042550  0.042956   \n",
       "3  0.046456  0.044559  0.045671  ...  0.053501  0.057314  0.056660  0.060562   \n",
       "4  0.043036  0.043353  0.041859  ...  0.055345  0.056380  0.058703  0.059114   \n",
       "\n",
       "       2009      2010      2011      2012      2013      2014  \n",
       "0  0.082076  0.082719  0.083290  0.088445  0.083363  0.085792  \n",
       "1  0.052783  0.055711  0.063656  0.059746  0.061733  0.069834  \n",
       "2  0.041056  0.036401  0.035788  0.037342  0.035918  0.044396  \n",
       "3  0.057060  0.059136  0.059614  0.059162  0.057742  0.061374  \n",
       "4  0.061749  0.062601  0.060446  0.060952  0.060215  0.060367  \n",
       "\n",
       "[5 rows x 30 columns]"
      ]
     },
     "execution_count": null,
     "metadata": {},
     "output_type": "execute_result"
    }
   ],
   "source": [
    "#loading dataFrames\n",
    "LT_df = pd.read_csv('LT_db.csv', index_col=0)\n",
    "MT_df = pd.read_csv('MT_db.csv', index_col=0)\n",
    "ST_df = pd.read_csv('ST_db.csv', index_col=0)\n",
    "LT_df.head()"
   ]
  },
  {
   "cell_type": "code",
   "execution_count": null,
   "metadata": {},
   "outputs": [],
   "source": [
    "years_array=np.arange(int(LT_df.columns[0])-1,int(LT_df.columns[-1])+1)"
   ]
  },
  {
   "cell_type": "code",
   "execution_count": null,
   "metadata": {},
   "outputs": [
    {
     "name": "stdout",
     "output_type": "stream",
     "text": [
      "Global Trend According to World Bank:\n",
      "\n",
      "[4.025, 4.074, 4.124, 4.152, 4.227, 4.224, 4.194, 4.173, 4.068, 4.002, 4.011, 4.036, 4.071, 4.082, 4.05, 3.968, 4.038, 4.081, 4.088, 4.258, 4.414, 4.528, 4.636, 4.671, 4.762, 4.662, 4.835, 4.975, 5.005, 4.998, 4.981]\n"
     ]
    },
    {
     "data": {
      "image/png": "[encoded data removed]",
      "text/plain": [
       "<Figure size 720x576 with 1 Axes>"
      ]
     },
     "metadata": {},
     "output_type": "display_data"
    }
   ],
   "source": [
    "global_trend_Real = [4.025, 4.074, 4.124, 4.152, 4.227, 4.224, 4.194, 4.173, 4.068, 4.002,4.011, 4.036, 4.071, 4.082, 4.05, 3.968, 4.038, 4.081, 4.088, 4.258, 4.414,  4.528, 4.636, 4.671, 4.762, 4.662, 4.835, 4.975, 5.005, 4.998, 4.981]\n",
    "print('Global Trend According to World Bank:\\n')\n",
    "print(global_trend_Real)\n",
    "plt.figure(figsize=(10,8))\n",
    "plt.plot(years_array,global_trend_Real)\n",
    "plt.xlabel('Years')\n",
    "plt.ylabel('CO2 Emission')\n",
    "plt.scatter(years_array,global_trend_Real)\n",
    "plt.show()"
   ]
  },
  {
   "cell_type": "code",
   "execution_count": null,
   "metadata": {},
   "outputs": [],
   "source": [
    "years = len(LT_df.columns)"
   ]
  },
  {
   "cell_type": "code",
   "execution_count": null,
   "metadata": {},
   "outputs": [],
   "source": [
    "#initializing all global variables\n",
    "#initializing variable that counts the state periods\n",
    "epochs = 32\n",
    "number_of_agents = 3\n",
    "\n",
    "#for graphical purposes; showing the action space in the first row of the Q-table\n",
    "action_count = (\"     -0.2 -0.16 -0.12 -0.08 -0.04  0    0.04  0.08  0.12  0.16  0.2\") \n",
    "\n",
    "global_state = 4.97 #current CO2 emissions are at 4.97 metric tons per capita world-wide. Source: World Bank\n",
    "\n",
    "#creating a list to store the global state for each epoch\n",
    "global_state_per_epoch = []\n",
    "\n",
    "#number of different actions that a single agent can take in a given state\n",
    "size_of_action_space = 10\n",
    "cost_of_action = 10 #defining cost to reduce CO2 emissions per metric ton\n",
    "\n",
    "#Q-tables\n",
    "Q_LT = np.zeros((years + 1, size_of_action_space))\n",
    "Q_MT = np.zeros((years + 1, size_of_action_space))\n",
    "Q_ST = np.zeros((years + 1, size_of_action_space))\n",
    "\n",
    "#Q-tables for every epoch that stores all max values from\n",
    "Q_LT_per_epoch = []\n",
    "Q_MT_per_epoch = []\n",
    "Q_ST_per_epoch = []\n",
    "\n",
    "#defining the weight factors of immediate rewards \n",
    "LT_reward_factor = 0.4\n",
    "MT_reward_factor = 0.5\n",
    "ST_reward_factor = 0.6 \n",
    "cumulative_reward = 0 #initializing cumulative reward, which is 0 to start with\n",
    "\n",
    "#creating a list to store the cumulative reward for each epoch\n",
    "cumulative_reward_per_epoch = []\n",
    "\n",
    "#creating a list to store the immediate rewards for each epoch\n",
    "immediate_rewards_per_epoch = []\n",
    "\n",
    "LT_epsilon_min = 0.1 #defining minimal epsilon for LT\n",
    "LT_epsilon_decay = 0.999 #defining decay rate of LT's epsilon\n",
    "MT_epsilon_min = 0.06\n",
    "MT_epsilon_decay = 0.995\n",
    "ST_epsilon_min = 0.03 \n",
    "ST_epsilon_decay = 0.990 \n",
    "alpha = 0.1 #initializing the learning rate of the Q-values\n",
    "alpha_min = 0.01 #initializing minimal learning rate after decay\n",
    "alpha_decay = 0.999 #initializing decay of learning rate\n",
    "gamma = 0.7  #<=>reward discount"
   ]
  },
  {
   "cell_type": "code",
   "execution_count": null,
   "metadata": {},
   "outputs": [
    {
     "name": "stdout",
     "output_type": "stream",
     "text": [
      "LT_action_space:  [0.009 0.019 0.03  0.04  0.051 0.051 0.08  0.109 0.138 0.167]\n"
     ]
    }
   ],
   "source": [
    "LT_values = LT_df.values[:-1].T\n",
    "Population_LT = LT_df.values[-1]\n",
    "\n",
    "LT_ravel = LT_values.ravel()\n",
    "LT_avg = sum(LT_ravel) / len(LT_ravel)\n",
    "\n",
    "LT_action_space = np.round(\n",
    "    np.concatenate(\n",
    "        (np.linspace(min(LT_ravel), LT_avg, size_of_action_space // 2),\n",
    "         np.linspace(LT_avg, max(LT_ravel),\n",
    "                     size_of_action_space - (size_of_action_space // 2)))), 3)\n",
    "print('LT_action_space: ', LT_action_space)"
   ]
  },
  {
   "cell_type": "code",
   "execution_count": null,
   "metadata": {},
   "outputs": [
    {
     "name": "stdout",
     "output_type": "stream",
     "text": [
      "MT_action_space:  [0.001 0.007 0.014 0.02  0.027 0.027 0.04  0.053 0.067 0.08 ]\n"
     ]
    }
   ],
   "source": [
    "MT_values = MT_df.values[:-1].T\n",
    "Population_MT = MT_df.values[-1]\n",
    "\n",
    "MT_ravel = MT_values.ravel()\n",
    "MT_avg = sum(MT_ravel) / len(MT_ravel)\n",
    "\n",
    "MT_action_space = np.round(\n",
    "    np.concatenate(\n",
    "        (np.linspace(min(MT_ravel), MT_avg, size_of_action_space // 2),\n",
    "         np.linspace(MT_avg, max(MT_ravel),\n",
    "                     size_of_action_space - (size_of_action_space // 2)))), 3)\n",
    "\n",
    "print('MT_action_space: ', MT_action_space)"
   ]
  },
  {
   "cell_type": "code",
   "execution_count": null,
   "metadata": {},
   "outputs": [
    {
     "name": "stdout",
     "output_type": "stream",
     "text": [
      "ST_action_space:  [0.008 0.012 0.015 0.019 0.023 0.023 0.032 0.04  0.048 0.056]\n"
     ]
    }
   ],
   "source": [
    "ST_values = ST_df.values[:-1].T\n",
    "Population_ST = ST_df.values[-1]\n",
    "Population_array = Population_LT + Population_MT + Population_ST\n",
    "\n",
    "ST_ravel = ST_values.ravel()\n",
    "ST_avg = sum(ST_ravel) / len(ST_ravel)\n",
    "\n",
    "ST_action_space = np.round(\n",
    "    np.concatenate(\n",
    "        (np.linspace(min(ST_ravel), ST_avg, size_of_action_space // 2),\n",
    "         np.linspace(ST_avg, max(ST_ravel),\n",
    "                     size_of_action_space - (size_of_action_space // 2)))), 3)\n",
    "\n",
    "print('ST_action_space: ', ST_action_space)"
   ]
  },
  {
   "cell_type": "code",
   "execution_count": null,
   "metadata": {
    "colab": {},
    "colab_type": "code",
    "id": "0-72uedainsP"
   },
   "outputs": [],
   "source": [
    "#defining best actions from action space\n",
    "Min_Q_LT = 0\n",
    "Min_Q_MT = 0\n",
    "Min_Q_ST = 0\n",
    "\n",
    "for epoch in range(1, epochs + 1):\n",
    "\n",
    "    #initalize variables\n",
    "    global_state_of_co2_emission = 4.025  #CO2 emmision in 1984\n",
    "\n",
    "    cumulative_reward = 0  #intially 0\n",
    "\n",
    "    alpha = 0.1  #learning rate\n",
    "    \n",
    "    #exploration vs explotation\n",
    "    LT_epsilon = 0.9\n",
    "    MT_epsilon = 0.8\n",
    "    ST_epsilon = 0.7\n",
    "\n",
    "    for year in range(0, years):\n",
    "\n",
    "        Min_Q_LT = np.argmin(Q_LT[year])\n",
    "        Min_Q_MT = np.argmin(Q_MT[year])\n",
    "        Min_Q_ST = np.argmin(Q_ST[year])\n",
    "\n",
    "        #LT\n",
    "        if np.random.rand() <= LT_epsilon:\n",
    "            LT_action = random.choice(LT_values[year])\n",
    "        else:\n",
    "            LT_action = LT_action_space[Min_Q_LT]\n",
    "\n",
    "        LT_immediate_reward = LT_action * (LT_reward_factor + cost_of_action)\n",
    "        \n",
    "        Q_LT[year, abs(LT_action_space - LT_action).argmin()] = round(\n",
    "            (1 - alpha) * Q_LT[year, Min_Q_LT] + alpha *\n",
    "            (LT_immediate_reward + gamma * np.amin(Q_LT[year + 1, :])), 3)\n",
    "\n",
    "        #MT\n",
    "        if np.random.rand() <= MT_epsilon:\n",
    "            MT_action = random.choice(MT_values[year])\n",
    "        else:\n",
    "            MT_action = MT_action_space[Min_Q_MT]\n",
    "\n",
    "        MT_immediate_reward = MT_action * (MT_reward_factor + cost_of_action)\n",
    "        \n",
    "        Q_MT[year, abs(MT_action_space - MT_action).argmin()] = round(\n",
    "            (1 - alpha) * Q_MT[year, Min_Q_MT] + alpha *\n",
    "            (MT_immediate_reward + gamma * np.amin(Q_MT[year + 1, :])), 3)\n",
    "\n",
    "        #ST\n",
    "        if np.random.rand() <= ST_epsilon:\n",
    "            ST_action = random.choice(ST_values[year])\n",
    "        else:\n",
    "            ST_action = ST_action_space[Min_Q_ST]\n",
    "\n",
    "        ST_immediate_reward = ST_action * (ST_reward_factor + cost_of_action)\n",
    "        \n",
    "        Q_ST[year, abs(ST_action_space - ST_action).argmin()] = round(\n",
    "            (1 - alpha) * Q_ST[year, Min_Q_ST] + alpha *\n",
    "            (ST_immediate_reward + gamma * np.amin(Q_ST[year + 1, :])), 3)\n",
    "\n",
    "        cumulative_reward += LT_immediate_reward + MT_immediate_reward + ST_immediate_reward - cost_of_action * (\n",
    "            LT_action_space[np.argmin(Q_LT[year, :])] -\n",
    "            MT_action_space[np.argmin(Q_MT[year, :])] -\n",
    "            ST_action_space[np.argmin(Q_ST[year, :])])\n",
    "\n",
    "        alpha = alpha * alpha_decay if (alpha > alpha_min) else alpha\n",
    "        \n",
    "        LT_epsilon = LT_epsilon * LT_epsilon_decay if (\n",
    "            LT_epsilon > LT_epsilon_min) else LT_epsilon_min\n",
    "        \n",
    "        MT_epsilon = MT_epsilon * MT_epsilon_decay if (\n",
    "            MT_epsilon > MT_epsilon_min) else MT_epsilon_min\n",
    "        \n",
    "        ST_epsilon = ST_epsilon * ST_epsilon_decay if (\n",
    "            ST_epsilon > ST_epsilon_min) else ST_epsilon_min\n",
    "\n",
    "        global_state_of_co2_emission += (\n",
    "            (LT_action * Population_LT[year]) +\n",
    "            (MT_action * Population_MT[year]) +\n",
    "            (ST_action * Population_ST[year])) / Population_array[year]\n",
    "\n",
    "    Q_LT_per_epoch.append(np.argmin(Q_LT, axis=1).tolist())\n",
    "    Q_MT_per_epoch.append(np.argmin(Q_MT, axis=1).tolist())\n",
    "    Q_ST_per_epoch.append(np.argmin(Q_ST, axis=1).tolist())\n",
    "\n",
    "    cumulative_reward_per_epoch.append(cumulative_reward)\n",
    "    immediate_rewards_per_epoch.append(\n",
    "        [LT_immediate_reward, MT_immediate_reward, ST_immediate_reward])\n",
    "    global_state_per_epoch.append(global_state_of_co2_emission)"
   ]
  },
  {
   "cell_type": "code",
   "execution_count": null,
   "metadata": {},
   "outputs": [],
   "source": [
    "immediate_rewards_per_epoch = np.array(immediate_rewards_per_epoch, copy=False)"
   ]
  },
  {
   "cell_type": "code",
   "execution_count": null,
   "metadata": {},
   "outputs": [
    {
     "name": "stdout",
     "output_type": "stream",
     "text": [
      "Lowest Global State Achived During this Game:  4.727052767743344\n",
      "\n",
      "\n",
      "Lowest Immediate Reward for LT:  0.0936\n",
      "Lowest Immediate Reward for MT:  0.0105\n",
      "Lowest Immediate Reward for ST:  0.0848\n"
     ]
    }
   ],
   "source": [
    "#evaluating the trained model\n",
    "print('Lowest Global State Achived During this Game: ',np.min(global_state_per_epoch))\n",
    "print('\\n')\n",
    "print(\"Lowest Immediate Reward for LT: \",np.min(immediate_rewards_per_epoch[:, 0]))\n",
    "print(\"Lowest Immediate Reward for MT: \",np.min(immediate_rewards_per_epoch[:, 1]))\n",
    "print(\"Lowest Immediate Reward for ST: \",np.min(immediate_rewards_per_epoch[:, 2]))"
   ]
  },
  {
   "cell_type": "code",
   "execution_count": null,
   "metadata": {},
   "outputs": [
    {
     "name": "stdout",
     "output_type": "stream",
     "text": [
      "Q_LT: \n",
      "\n",
      "       0      1      2      3      4    5      6      7    8    9\n",
      "0  0.012  0.017  0.035  0.044  0.053  0.0  0.074  0.116  0.0  0.0\n",
      "1  0.009  0.017  0.036  0.045  0.063  0.0  0.071  0.105  0.0  0.0\n",
      "2  0.009  0.020  0.035  0.046  0.058  0.0  0.077  0.116  0.0  0.0\n",
      "3  0.000  0.020  0.035  0.044  0.053  0.0  0.074  0.000  0.0  0.0\n",
      "4  0.014  0.016  0.034  0.043  0.048  0.0  0.070  0.000  0.0  0.0\n"
     ]
    }
   ],
   "source": [
    "print('Q_LT: \\n')\n",
    "print(pd.DataFrame(Q_LT).head())"
   ]
  },
  {
   "cell_type": "code",
   "execution_count": null,
   "metadata": {},
   "outputs": [
    {
     "name": "stdout",
     "output_type": "stream",
     "text": [
      "Q_MT: \n",
      "\n",
      "       0      1      2      3      4    5      6      7    8      9\n",
      "0  0.002  0.010  0.013  0.021  0.025  0.0  0.045  0.053  0.0  0.000\n",
      "1  0.002  0.009  0.014  0.022  0.028  0.0  0.000  0.000  0.0  0.000\n",
      "2  0.001  0.011  0.017  0.024  0.028  0.0  0.040  0.000  0.0  0.079\n",
      "3  0.001  0.011  0.017  0.021  0.027  0.0  0.000  0.000  0.0  0.000\n",
      "4  0.001  0.007  0.015  0.019  0.031  0.0  0.037  0.000  0.0  0.000\n"
     ]
    }
   ],
   "source": [
    "print('Q_MT: \\n')\n",
    "print(pd.DataFrame(Q_MT).head())"
   ]
  },
  {
   "cell_type": "code",
   "execution_count": null,
   "metadata": {},
   "outputs": [
    {
     "name": "stdout",
     "output_type": "stream",
     "text": [
      "Q_ST: \n",
      "\n",
      "       0      1      2      3      4    5      6      7    8      9\n",
      "0  0.008  0.013  0.017  0.021  0.024  0.0  0.036  0.041  0.0  0.058\n",
      "1  0.008  0.013  0.017  0.020  0.024  0.0  0.037  0.000  0.0  0.000\n",
      "2  0.008  0.014  0.015  0.021  0.024  0.0  0.030  0.039  0.0  0.000\n",
      "3  0.010  0.014  0.018  0.022  0.024  0.0  0.034  0.000  0.0  0.000\n",
      "4  0.008  0.013  0.015  0.021  0.024  0.0  0.000  0.038  0.0  0.060\n"
     ]
    }
   ],
   "source": [
    "print('Q_ST: \\n')\n",
    "print(pd.DataFrame(Q_ST).head())"
   ]
  },
  {
   "cell_type": "code",
   "execution_count": null,
   "metadata": {},
   "outputs": [
    {
     "name": "stdout",
     "output_type": "stream",
     "text": [
      "LT's Strategy to achieve Lowest Cumulative Reward:\n",
      " [0.019, 0.019, 0.009, 0.019, 0.009, 0.009, 0.009, 0.009, 0.019, 0.009, 0.009, 0.009, 0.009, 0.009, 0.009, 0.019, 0.009, 0.009, 0.009, 0.009, 0.009, 0.009, 0.009, 0.009, 0.009, 0.009, 0.009, 0.009, 0.009, 0.009]\n",
      "\n",
      "MT's Strategy to achieve Lowest Cumulative Reward:\n",
      " [0.001, 0.001, 0.001, 0.001, 0.001, 0.007, 0.001, 0.001, 0.001, 0.001, 0.001, 0.001, 0.001, 0.007, 0.001, 0.001, 0.007, 0.007, 0.007, 0.001, 0.001, 0.007, 0.007, 0.001, 0.007, 0.007, 0.001, 0.001, 0.001, 0.001]\n",
      "\n",
      "ST's Strategy to achieve Lowest Cumulative Reward:\n",
      " [0.008, 0.012, 0.008, 0.012, 0.008, 0.008, 0.008, 0.008, 0.012, 0.012, 0.008, 0.008, 0.008, 0.008, 0.012, 0.012, 0.008, 0.012, 0.008, 0.012, 0.008, 0.012, 0.008, 0.012, 0.008, 0.012, 0.008, 0.008, 0.012, 0.008]\n"
     ]
    }
   ],
   "source": [
    "#Synergistic Policy\n",
    "Q_LT_Best = Q_LT_per_epoch[np.argmin(cumulative_reward_per_epoch)]\n",
    "Q_MT_Best = Q_MT_per_epoch[np.argmin(cumulative_reward_per_epoch)]\n",
    "Q_ST_Best = Q_ST_per_epoch[np.argmin(cumulative_reward_per_epoch)]\n",
    "\n",
    "LT_Synergistic = [LT_action_space[i] for i in Q_LT_Best[1:]]\n",
    "MT_Synergistic = [MT_action_space[i] for i in Q_MT_Best[1:]]\n",
    "ST_Synergistic = [ST_action_space[i] for i in Q_ST_Best[1:]]\n",
    "\n",
    "print(\"LT's Strategy to achieve Lowest Cumulative Reward:\\n\",LT_Synergistic)\n",
    "print(\"\\nMT's Strategy to achieve Lowest Cumulative Reward:\\n\",MT_Synergistic)\n",
    "print(\"\\nST's Strategy to achieve Lowest Cumulative Reward:\\n\",ST_Synergistic)"
   ]
  },
  {
   "cell_type": "code",
   "execution_count": null,
   "metadata": {},
   "outputs": [
    {
     "name": "stdout",
     "output_type": "stream",
     "text": [
      "LT's Strategy to achieve Lowest Immediate Reward:\n",
      " [0.04, 0.019, 0.009, 0.051, 0.019, 0.009, 0.051, 0.019, 0.019, 0.009, 0.019, 0.051, 0.03, 0.009, 0.019, 0.019, 0.051, 0.051, 0.019, 0.04, 0.019, 0.009, 0.051, 0.03, 0.009, 0.03, 0.009, 0.009, 0.019, 0.009]\n",
      "\n",
      "MT's Strategy to achieve Lowest Immediate Reward:\n",
      " [0.007, 0.007, 0.001, 0.001, 0.001, 0.014, 0.001, 0.001, 0.007, 0.001, 0.014, 0.007, 0.001, 0.007, 0.014, 0.001, 0.02, 0.007, 0.014, 0.007, 0.001, 0.02, 0.014, 0.007, 0.007, 0.014, 0.007, 0.001, 0.007, 0.001]\n",
      "\n",
      "ST's Strategy to achieve Lowest Immediate Reward:\n",
      " [0.008, 0.012, 0.008, 0.012, 0.008, 0.008, 0.008, 0.008, 0.012, 0.012, 0.008, 0.008, 0.008, 0.008, 0.012, 0.012, 0.008, 0.012, 0.008, 0.012, 0.008, 0.012, 0.008, 0.012, 0.008, 0.012, 0.008, 0.008, 0.012, 0.008]\n"
     ]
    }
   ],
   "source": [
    "#Selfish Planning Policy\n",
    "Q_LT_Immediate_Best = Q_LT_per_epoch[np.argmin(immediate_rewards_per_epoch[:, 0])]\n",
    "Q_MT_Immediate_Best = Q_MT_per_epoch[np.argmin(immediate_rewards_per_epoch[:, 1])]\n",
    "Q_ST_Immediate_Best = Q_ST_per_epoch[np.argmin(immediate_rewards_per_epoch[:, 2])]\n",
    "\n",
    "\n",
    "LT_Selfish_Plan = [LT_action_space[i] for i in Q_LT_Immediate_Best[1:]]\n",
    "MT_Selfish_Plan = [MT_action_space[i] for i in Q_MT_Immediate_Best[1:]]\n",
    "ST_Selfish_Plan = [ST_action_space[i] for i in Q_ST_Immediate_Best[1:]]\n",
    "\n",
    "print(\"LT's Strategy to achieve Lowest Immediate Reward:\\n\",LT_Selfish_Plan)\n",
    "print(\"\\nMT's Strategy to achieve Lowest Immediate Reward:\\n\",MT_Selfish_Plan)\n",
    "print(\"\\nST's Strategy to achieve Lowest Immediate Reward:\\n\",ST_Selfish_Plan)"
   ]
  },
  {
   "cell_type": "code",
   "execution_count": null,
   "metadata": {},
   "outputs": [
    {
     "name": "stdout",
     "output_type": "stream",
     "text": [
      "\n",
      "Greedy Policy of LT, based on LT's Final Q-Table:\n",
      " [0.051, 0.051, 0.051, 0.009, 0.051, 0.051, 0.009, 0.051, 0.051, 0.051, 0.051, 0.051, 0.051, 0.051, 0.051, 0.051, 0.051, 0.051, 0.051, 0.051, 0.051, 0.051, 0.051, 0.051, 0.051, 0.051, 0.051, 0.019, 0.051, 0.051, 0.009]\n",
      "\n",
      "Greedy Policy of MT, based on MT's Final Q-Table:\n",
      " [0.027, 0.027, 0.027, 0.027, 0.027, 0.027, 0.027, 0.027, 0.027, 0.027, 0.027, 0.027, 0.027, 0.027, 0.027, 0.027, 0.027, 0.027, 0.027, 0.027, 0.027, 0.027, 0.027, 0.027, 0.027, 0.027, 0.027, 0.027, 0.027, 0.027, 0.001]\n",
      "\n",
      "Greedy Policy of ST, based on ST's Final Q-Table:\n",
      " [0.023, 0.023, 0.023, 0.023, 0.023, 0.023, 0.023, 0.023, 0.023, 0.023, 0.023, 0.023, 0.023, 0.023, 0.023, 0.023, 0.023, 0.023, 0.023, 0.023, 0.023, 0.023, 0.023, 0.023, 0.023, 0.023, 0.023, 0.023, 0.023, 0.023, 0.008]\n"
     ]
    }
   ],
   "source": [
    "#Greedy Policy\n",
    "LT_Greedy = [LT_action_space[i] for i in np.argmin(Q_LT, axis=1)]\n",
    "MT_Greedy = [MT_action_space[i] for i in np.argmin(Q_MT, axis=1)]\n",
    "ST_Greedy = [ST_action_space[i] for i in np.argmin(Q_ST, axis=1)]\n",
    "\n",
    "print(\"\\nGreedy Policy of LT, based on LT's Final Q-Table:\\n\",LT_Greedy)\n",
    "print(\"\\nGreedy Policy of MT, based on MT's Final Q-Table:\\n\",MT_Greedy)\n",
    "print(\"\\nGreedy Policy of ST, based on ST's Final Q-Table:\\n\",ST_Greedy)"
   ]
  },
  {
   "cell_type": "code",
   "execution_count": null,
   "metadata": {},
   "outputs": [],
   "source": [
    "def get_trend(Q_LT,Q_MT,Q_ST,):\n",
    "    global_state_of_co2_emission = 4.025\n",
    "    global_trend = [4.025]\n",
    "    for year in range(0, years):\n",
    "        #actions based on Policies\n",
    "        LT_action = Q_LT[year]\n",
    "        MT_action = Q_MT[year]\n",
    "        ST_action = Q_ST[year]\n",
    "\n",
    "        global_state_of_co2_emission += (\n",
    "            (LT_action * Population_LT[year]) + (MT_action * Population_MT[year]) +\n",
    "            (ST_action * Population_ST[year])) / Population_array[year]\n",
    "\n",
    "        global_trend.append(np.round(global_state_of_co2_emission,3))\n",
    "    return global_trend"
   ]
  },
  {
   "cell_type": "code",
   "execution_count": null,
   "metadata": {},
   "outputs": [
    {
     "name": "stdout",
     "output_type": "stream",
     "text": [
      "Global Trend According to Synergistic Policy:\n",
      "\n",
      "[4.025, 4.03, 4.035, 4.038, 4.043, 4.046, 4.053, 4.056, 4.059, 4.064, 4.066, 4.069, 4.072, 4.075, 4.082, 4.085, 4.09, 4.097, 4.105, 4.112, 4.115, 4.118, 4.125, 4.133, 4.136, 4.143, 4.15, 4.153, 4.156, 4.159, 4.162]\n"
     ]
    },
    {
     "data": {
      "image/png": "[encoded data removed]",
      "text/plain": [
       "<Figure size 720x576 with 1 Axes>"
      ]
     },
     "metadata": {},
     "output_type": "display_data"
    }
   ],
   "source": [
    "#Synergistic Policy\n",
    "\n",
    "global_trend_Synergistic = get_trend(LT_Synergistic,MT_Synergistic,ST_Synergistic)\n",
    "print('Global Trend According to Synergistic Policy:\\n')\n",
    "print(global_trend_Synergistic)\n",
    "plt.figure(figsize=(10,8))\n",
    "plt.plot(years_array,global_trend_Synergistic)\n",
    "plt.xlabel('Years')\n",
    "plt.ylabel('CO2 Emission')\n",
    "plt.scatter(years_array,global_trend_Synergistic)\n",
    "plt.show()"
   ]
  },
  {
   "cell_type": "code",
   "execution_count": null,
   "metadata": {},
   "outputs": [
    {
     "name": "stdout",
     "output_type": "stream",
     "text": [
      "Global Trend According to Selfish Policy:\n",
      "\n",
      "[4.025, 4.039, 4.049, 4.052, 4.064, 4.069, 4.082, 4.094, 4.099, 4.108, 4.111, 4.126, 4.143, 4.15, 4.158, 4.173, 4.178, 4.205, 4.221, 4.236, 4.251, 4.256, 4.273, 4.295, 4.307, 4.315, 4.332, 4.34, 4.342, 4.352, 4.355]\n"
     ]
    },
    {
     "data": {
      "image/png": "[encoded data removed]",
      "text/plain": [
       "<Figure size 720x576 with 1 Axes>"
      ]
     },
     "metadata": {},
     "output_type": "display_data"
    }
   ],
   "source": [
    "#Selfish Planing Policy\n",
    "\n",
    "global_trend_Selfish = get_trend(LT_Selfish_Plan,MT_Selfish_Plan,ST_Selfish_Plan)\n",
    "print('Global Trend According to Selfish Policy:\\n')\n",
    "print(global_trend_Selfish)\n",
    "plt.figure(figsize=(10,8))\n",
    "plt.plot(years_array,global_trend_Selfish)\n",
    "plt.xlabel('Years')\n",
    "plt.ylabel('CO2 Emission')\n",
    "plt.scatter(years_array,global_trend_Selfish)\n",
    "plt.show()"
   ]
  },
  {
   "cell_type": "code",
   "execution_count": null,
   "metadata": {},
   "outputs": [
    {
     "name": "stdout",
     "output_type": "stream",
     "text": [
      "Global Trend According to Greedy Policy:\n",
      "\n",
      "[4.025, 4.054, 4.083, 4.113, 4.133, 4.162, 4.191, 4.211, 4.24, 4.269, 4.298, 4.328, 4.357, 4.386, 4.415, 4.444, 4.473, 4.502, 4.532, 4.561, 4.59, 4.619, 4.648, 4.677, 4.707, 4.736, 4.765, 4.794, 4.816, 4.845, 4.875]\n"
     ]
    },
    {
     "data": {
      "image/png": "[encoded data removed]",
      "text/plain": [
       "<Figure size 720x576 with 1 Axes>"
      ]
     },
     "metadata": {},
     "output_type": "display_data"
    }
   ],
   "source": [
    "#Greedy Policy\n",
    "\n",
    "global_trend_Greedy = get_trend(LT_Greedy,ST_Greedy,MT_Greedy)\n",
    "print('Global Trend According to Greedy Policy:\\n')\n",
    "print(global_trend_Greedy)\n",
    "plt.figure(figsize=(10,8))\n",
    "plt.plot(years_array,global_trend_Greedy)\n",
    "plt.xlabel('Years')\n",
    "plt.ylabel('CO2 Emission')\n",
    "plt.scatter(years_array,global_trend_Greedy)\n",
    "plt.show()"
   ]
  },
  {
   "cell_type": "code",
   "execution_count": null,
   "metadata": {},
   "outputs": [
    {
     "data": {
      "image/png": "[encoded data removed]",
      "text/plain": [
       "<Figure size 720x576 with 1 Axes>"
      ]
     },
     "metadata": {},
     "output_type": "display_data"
    }
   ],
   "source": [
    "#ALL Policies\n",
    "plt.figure(figsize=(10,8))\n",
    "plt.plot(years_array,global_trend_Greedy)\n",
    "plt.scatter(years_array,global_trend_Greedy)\n",
    "plt.plot(years_array,global_trend_Selfish)\n",
    "plt.scatter(years_array,global_trend_Selfish)\n",
    "plt.plot(years_array,global_trend_Synergistic)\n",
    "plt.scatter(years_array,global_trend_Synergistic)\n",
    "plt.plot(years_array,global_trend_Real)\n",
    "plt.scatter(years_array,global_trend_Real)\n",
    "plt.xlabel('Years')\n",
    "plt.ylabel('CO2 Emission')\n",
    "plt.legend(['Greedy','Selfish','Synergistic','Real'])\n",
    "plt.show()"
   ]
  },
  {
   "cell_type": "markdown",
   "metadata": {
    "colab_type": "text",
    "id": "FP4oCh0sahQr"
   },
   "source": [
    "## 4\tResults\n",
    "\n",
    "---\n",
    "\n",
    "The results show that Synergistic policies achieve a lower per capita CO2 consumption, than selfish and greedy policies. In order to realize Synergistic policies, the current soft law approach on international climate policy needs to be enhanced by local commitments of smaller groups of countries and increased political and economic pressure. The policies of the modeled agents show that significantly reducing the global per capita CO2 consumption is not an option, but a rational thing to do, both from an economic and ecological perspective. Bringing these two worlds together, the cost of carbon emissions needs to be internalized in our economic systems, to incentivize both direct polluters and consumers to rethink their CO2 choices. Multi-agent reinforcement learning can help us to model and compare the economic and political dynamics and implications of new approaches to climate policy."
   ]
  },
  {
   "cell_type": "markdown",
   "metadata": {
    "colab_type": "text",
    "id": "OYT8Yow7d_Kn"
   },
   "source": [
    "## Future Works:\n",
    "---\n",
    "\n",
    "-  Some of the potential areas of improvement include but are not limited to: the number and diversity of agents, the cost and variety of mitigation measures, the different cost and impact of these measures depending on which period they are applied to, the state transition function, mapping the global state to its, mapping this impact to the agent‘s reward functions, the reward functions in general\n",
    "\n",
    "\n",
    "- Modelling the environment in a partially observable MDP which includes the additional mapping from observations to states, more sophisticated models to change the parameters depending on time\n",
    "\n",
    "\n",
    "- The use of different MARL algorithms depending on the model (such as Team-Q, WoLF-PHC, SG-SP, different variations of CE-Q or Nash-Q, to name just a few),\n",
    "\n",
    "\n",
    "- Accounting for models of cooperation between agents and finally, modelling real-time parallelization of and communication between."
   ]
  },
  {
   "cell_type": "markdown",
   "metadata": {
    "colab_type": "text",
    "id": "NM8pdv7ReJxj"
   },
   "source": [
    "## 6\tAcknowledgements\n",
    "\n",
    "---\n",
    "\n",
    "A special thanks to author of original paper Valentin Kahn and thanks the School of AI and its Director, Siraj Raval."
   ]
  }
 ],
 "metadata": {
  "colab": {
   "collapsed_sections": [],
   "include_colab_link": true,
   "name": "Dynamic Paper_MARL & Global Carbon Footprint_School of AI.ipynb.ipynb",
   "provenance": [],
   "version": "0.3.2"
  },
  "kernelspec": {
   "display_name": "Python 3",
   "language": "python",
   "name": "python3"
  },
  "language_info": {
   "codemirror_mode": {
    "name": "ipython",
    "version": 3
   },
   "file_extension": ".py",
   "mimetype": "text/x-python",
   "name": "python",
   "nbconvert_exporter": "python",
   "pygments_lexer": "ipython3",
   "version": "3.7.6"
  },
  "varInspector": {
   "cols": {
    "lenName": 16,
    "lenType": 16,
    "lenVar": 40
   },
   "kernels_config": {
    "python": {
     "delete_cmd_postfix": "",
     "delete_cmd_prefix": "del ",
     "library": "var_list.py",
     "varRefreshCmd": "print(var_dic_list())"
    },
    "r": {
     "delete_cmd_postfix": ") ",
     "delete_cmd_prefix": "rm(",
     "library": "var_list.r",
     "varRefreshCmd": "cat(var_dic_list()) "
    }
   },
   "types_to_exclude": [
    "module",
    "function",
    "builtin_function_or_method",
    "instance",
    "_Feature"
   ],
   "window_display": false
  }
 },
 "nbformat": 4,
 "nbformat_minor": 1
}
